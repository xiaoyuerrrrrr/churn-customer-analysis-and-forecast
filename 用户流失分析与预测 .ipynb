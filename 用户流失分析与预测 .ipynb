{
 "cells": [
  {
   "cell_type": "markdown",
   "metadata": {
    "collapsed": true
   },
   "source": [
    "# 用户流失分析与预测"
   ]
  },
  {
   "cell_type": "markdown",
   "metadata": {},
   "source": [
    "本文背景选自一家电信公司，根据一部分用户数据（）和是否被流失，主要解决了以下几个商业问题：\n",
    "\n",
    "1. 什么样子的用户容易被流失\n",
    "2. 用户流失的原因可能有哪些\n",
    "3. 能从数据的角度为用户流失提一些意见吗\n",
    "4. 是否能够为流失用户做出预测，建立起用户流失预警机制"
   ]
  },
  {
   "cell_type": "markdown",
   "metadata": {
    "collapsed": false
   },
   "source": [
    "本文主体分成2部分：\n",
    "\n",
    "## 1. 用 decison tree 快速找出流失用户的用户画像，并给予业务方面的改善意见\n",
    "\n",
    "### - 尽量鼓励用户签超过一年的合约\n",
    "\n",
    "### - 对于愿意签约超过一年的客户，考虑从性价比入手来提高留存率，比如推出94美元内的各种套餐组合。监控长合约用户的每月花费，如果有超过94美元的趋势，立马让销售人员主动联系他们并推荐可选的其他更高性价比套餐。\n",
    "\n",
    "### - 理智地让客服和销售人员推荐这种价格高昂的“Fiber optic”上网服务给月合同客户，并对选择了“Fiber optic”上网服务但流失掉的短期客户进行深入用户调查，可从价格、服务、竞争对手着手\n",
    "\n",
    "### - 对比长时间喜爱“Fiber optic”上网服务的用户和订阅“Fiber optic”上网服务后流失的用户，找出在使用这项服务上的区别有哪些，比如平均每日使用频率和平均使用时长。所以对于其他选择了“Fiber optic”上网服务的用户，追踪他们使用这项服务的平均每日使用频率和平均每日使用时长，一旦发现这两项指标偏低，立马让销售和客服人员联系他们主动建议取消这项服务。\n",
    "\n",
    "## 2. 利用 random forest 建立用户流失预测模型\n",
    "\n",
    "另外，本文选取的2个模型都属于 tree based模型，是因为树模型能够在存在correlated variables时依然保持良好的学习能力和避免overfitting。但是从模型理解上来看，尤其以容易理解的决策树模型，correlated variables的feature importance（基于gini或者entropy） 可能会偏低。本文找出了高information gain的feature，并且一一剔除去看和这些高information gain相highly correlated的features表现，从而使我们的业务建议更有说服力。"
   ]
  },
  {
   "cell_type": "markdown",
   "metadata": {},
   "source": [
    "# 第一步，先了解数据的整体情况，有没有缺失值"
   ]
  },
  {
   "cell_type": "code",
   "execution_count": 1,
   "metadata": {
    "collapsed": false
   },
   "outputs": [
    {
     "data": {
      "text/html": [
       "        <script type=\"text/javascript\">\n",
       "        window.PlotlyConfig = {MathJaxConfig: 'local'};\n",
       "        if (window.MathJax) {MathJax.Hub.Config({SVG: {font: \"STIX-Web\"}});}\n",
       "        if (typeof require !== 'undefined') {\n",
       "        require.undef(\"plotly\");\n",
       "        requirejs.config({\n",
       "            paths: {\n",
       "                'plotly': ['https://cdn.plot.ly/plotly-latest.min']\n",
       "            }\n",
       "        });\n",
       "        require(['plotly'], function(Plotly) {\n",
       "            window._Plotly = Plotly;\n",
       "        });\n",
       "        }\n",
       "        </script>\n",
       "        "
      ]
     },
     "metadata": {},
     "output_type": "display_data"
    }
   ],
   "source": [
    "import pandas as pd \n",
    "import numpy as np\n",
    "from __future__ import division     #因为Python2版本\n",
    "from sklearn import preprocessing\n",
    "from sklearn.preprocessing import OneHotEncoder, LabelEncoder\n",
    "\n",
    "import plotly.graph_objs as go\n",
    "import plotly.offline as py#visualization\n",
    "py.init_notebook_mode(connected=True)"
   ]
  },
  {
   "cell_type": "code",
   "execution_count": 2,
   "metadata": {
    "collapsed": true
   },
   "outputs": [],
   "source": [
    "# load data\n",
    "df = pd.read_csv(\"churn_prediction.csv\") "
   ]
  },
  {
   "cell_type": "code",
   "execution_count": 3,
   "metadata": {
    "collapsed": true
   },
   "outputs": [],
   "source": [
    "del df['customerID']"
   ]
  },
  {
   "cell_type": "code",
   "execution_count": 4,
   "metadata": {
    "collapsed": false
   },
   "outputs": [
    {
     "data": {
      "text/html": [
       "<div>\n",
       "<style scoped>\n",
       "    .dataframe tbody tr th:only-of-type {\n",
       "        vertical-align: middle;\n",
       "    }\n",
       "\n",
       "    .dataframe tbody tr th {\n",
       "        vertical-align: top;\n",
       "    }\n",
       "\n",
       "    .dataframe thead th {\n",
       "        text-align: right;\n",
       "    }\n",
       "</style>\n",
       "<table border=\"1\" class=\"dataframe\">\n",
       "  <thead>\n",
       "    <tr style=\"text-align: right;\">\n",
       "      <th></th>\n",
       "      <th>gender</th>\n",
       "      <th>SeniorCitizen</th>\n",
       "      <th>Partner</th>\n",
       "      <th>Dependents</th>\n",
       "      <th>tenure</th>\n",
       "      <th>PhoneService</th>\n",
       "      <th>MultipleLines</th>\n",
       "      <th>InternetService</th>\n",
       "      <th>OnlineSecurity</th>\n",
       "      <th>OnlineBackup</th>\n",
       "      <th>DeviceProtection</th>\n",
       "      <th>TechSupport</th>\n",
       "      <th>StreamingTV</th>\n",
       "      <th>StreamingMovies</th>\n",
       "      <th>Contract</th>\n",
       "      <th>PaperlessBilling</th>\n",
       "      <th>PaymentMethod</th>\n",
       "      <th>MonthlyCharges</th>\n",
       "      <th>TotalCharges</th>\n",
       "      <th>Churn</th>\n",
       "    </tr>\n",
       "  </thead>\n",
       "  <tbody>\n",
       "    <tr>\n",
       "      <th>0</th>\n",
       "      <td>Female</td>\n",
       "      <td>0</td>\n",
       "      <td>Yes</td>\n",
       "      <td>No</td>\n",
       "      <td>1</td>\n",
       "      <td>No</td>\n",
       "      <td>No phone service</td>\n",
       "      <td>DSL</td>\n",
       "      <td>No</td>\n",
       "      <td>Yes</td>\n",
       "      <td>No</td>\n",
       "      <td>No</td>\n",
       "      <td>No</td>\n",
       "      <td>No</td>\n",
       "      <td>Month-to-month</td>\n",
       "      <td>Yes</td>\n",
       "      <td>Electronic check</td>\n",
       "      <td>29.85</td>\n",
       "      <td>29.85</td>\n",
       "      <td>No</td>\n",
       "    </tr>\n",
       "    <tr>\n",
       "      <th>1</th>\n",
       "      <td>Male</td>\n",
       "      <td>0</td>\n",
       "      <td>No</td>\n",
       "      <td>No</td>\n",
       "      <td>34</td>\n",
       "      <td>Yes</td>\n",
       "      <td>No</td>\n",
       "      <td>DSL</td>\n",
       "      <td>Yes</td>\n",
       "      <td>No</td>\n",
       "      <td>Yes</td>\n",
       "      <td>No</td>\n",
       "      <td>No</td>\n",
       "      <td>No</td>\n",
       "      <td>One year</td>\n",
       "      <td>No</td>\n",
       "      <td>Mailed check</td>\n",
       "      <td>56.95</td>\n",
       "      <td>1889.5</td>\n",
       "      <td>No</td>\n",
       "    </tr>\n",
       "    <tr>\n",
       "      <th>2</th>\n",
       "      <td>Male</td>\n",
       "      <td>0</td>\n",
       "      <td>No</td>\n",
       "      <td>No</td>\n",
       "      <td>2</td>\n",
       "      <td>Yes</td>\n",
       "      <td>No</td>\n",
       "      <td>DSL</td>\n",
       "      <td>Yes</td>\n",
       "      <td>Yes</td>\n",
       "      <td>No</td>\n",
       "      <td>No</td>\n",
       "      <td>No</td>\n",
       "      <td>No</td>\n",
       "      <td>Month-to-month</td>\n",
       "      <td>Yes</td>\n",
       "      <td>Mailed check</td>\n",
       "      <td>53.85</td>\n",
       "      <td>108.15</td>\n",
       "      <td>Yes</td>\n",
       "    </tr>\n",
       "    <tr>\n",
       "      <th>3</th>\n",
       "      <td>Male</td>\n",
       "      <td>0</td>\n",
       "      <td>No</td>\n",
       "      <td>No</td>\n",
       "      <td>45</td>\n",
       "      <td>No</td>\n",
       "      <td>No phone service</td>\n",
       "      <td>DSL</td>\n",
       "      <td>Yes</td>\n",
       "      <td>No</td>\n",
       "      <td>Yes</td>\n",
       "      <td>Yes</td>\n",
       "      <td>No</td>\n",
       "      <td>No</td>\n",
       "      <td>One year</td>\n",
       "      <td>No</td>\n",
       "      <td>Bank transfer (automatic)</td>\n",
       "      <td>42.30</td>\n",
       "      <td>1840.75</td>\n",
       "      <td>No</td>\n",
       "    </tr>\n",
       "    <tr>\n",
       "      <th>4</th>\n",
       "      <td>Female</td>\n",
       "      <td>0</td>\n",
       "      <td>No</td>\n",
       "      <td>No</td>\n",
       "      <td>2</td>\n",
       "      <td>Yes</td>\n",
       "      <td>No</td>\n",
       "      <td>Fiber optic</td>\n",
       "      <td>No</td>\n",
       "      <td>No</td>\n",
       "      <td>No</td>\n",
       "      <td>No</td>\n",
       "      <td>No</td>\n",
       "      <td>No</td>\n",
       "      <td>Month-to-month</td>\n",
       "      <td>Yes</td>\n",
       "      <td>Electronic check</td>\n",
       "      <td>70.70</td>\n",
       "      <td>151.65</td>\n",
       "      <td>Yes</td>\n",
       "    </tr>\n",
       "  </tbody>\n",
       "</table>\n",
       "</div>"
      ],
      "text/plain": [
       "   gender  SeniorCitizen Partner Dependents  tenure PhoneService  \\\n",
       "0  Female              0     Yes         No       1           No   \n",
       "1    Male              0      No         No      34          Yes   \n",
       "2    Male              0      No         No       2          Yes   \n",
       "3    Male              0      No         No      45           No   \n",
       "4  Female              0      No         No       2          Yes   \n",
       "\n",
       "      MultipleLines InternetService OnlineSecurity OnlineBackup  \\\n",
       "0  No phone service             DSL             No          Yes   \n",
       "1                No             DSL            Yes           No   \n",
       "2                No             DSL            Yes          Yes   \n",
       "3  No phone service             DSL            Yes           No   \n",
       "4                No     Fiber optic             No           No   \n",
       "\n",
       "  DeviceProtection TechSupport StreamingTV StreamingMovies        Contract  \\\n",
       "0               No          No          No              No  Month-to-month   \n",
       "1              Yes          No          No              No        One year   \n",
       "2               No          No          No              No  Month-to-month   \n",
       "3              Yes         Yes          No              No        One year   \n",
       "4               No          No          No              No  Month-to-month   \n",
       "\n",
       "  PaperlessBilling              PaymentMethod  MonthlyCharges TotalCharges  \\\n",
       "0              Yes           Electronic check           29.85        29.85   \n",
       "1               No               Mailed check           56.95       1889.5   \n",
       "2              Yes               Mailed check           53.85       108.15   \n",
       "3               No  Bank transfer (automatic)           42.30      1840.75   \n",
       "4              Yes           Electronic check           70.70       151.65   \n",
       "\n",
       "  Churn  \n",
       "0    No  \n",
       "1    No  \n",
       "2   Yes  \n",
       "3    No  \n",
       "4   Yes  "
      ]
     },
     "execution_count": 4,
     "metadata": {},
     "output_type": "execute_result"
    }
   ],
   "source": [
    "# 显示前5行\n",
    "df.head()"
   ]
  },
  {
   "cell_type": "code",
   "execution_count": 5,
   "metadata": {
    "collapsed": false
   },
   "outputs": [
    {
     "data": {
      "text/plain": [
       "(7043, 20)"
      ]
     },
     "execution_count": 5,
     "metadata": {},
     "output_type": "execute_result"
    }
   ],
   "source": [
    "# 有多少行多少列\n",
    "df.shape"
   ]
  },
  {
   "cell_type": "code",
   "execution_count": 6,
   "metadata": {
    "collapsed": false
   },
   "outputs": [
    {
     "data": {
      "text/plain": [
       "array(['gender', 'SeniorCitizen', 'Partner', 'Dependents', 'tenure',\n",
       "       'PhoneService', 'MultipleLines', 'InternetService',\n",
       "       'OnlineSecurity', 'OnlineBackup', 'DeviceProtection',\n",
       "       'TechSupport', 'StreamingTV', 'StreamingMovies', 'Contract',\n",
       "       'PaperlessBilling', 'PaymentMethod', 'MonthlyCharges',\n",
       "       'TotalCharges', 'Churn'], dtype=object)"
      ]
     },
     "execution_count": 6,
     "metadata": {},
     "output_type": "execute_result"
    }
   ],
   "source": [
    "# 列出所有列名\n",
    "df.columns.values"
   ]
  },
  {
   "cell_type": "code",
   "execution_count": 7,
   "metadata": {
    "collapsed": false
   },
   "outputs": [
    {
     "name": "stdout",
     "output_type": "stream",
     "text": [
      "No     5174\n",
      "Yes    1869\n",
      "Name: Churn, dtype: int64\n",
      "    \n",
      "No     0.73463\n",
      "Yes    0.26537\n",
      "Name: Churn, dtype: float64\n"
     ]
    }
   ],
   "source": [
    "# 有多少流失客户以及比例是多少？\n",
    "print (df['Churn'].value_counts())\n",
    "print('    ')\n",
    "print (df['Churn'].value_counts(1))"
   ]
  },
  {
   "cell_type": "code",
   "execution_count": 8,
   "metadata": {
    "collapsed": false
   },
   "outputs": [
    {
     "name": "stdout",
     "output_type": "stream",
     "text": [
      "<class 'pandas.core.frame.DataFrame'>\n",
      "RangeIndex: 7043 entries, 0 to 7042\n",
      "Data columns (total 20 columns):\n",
      "gender              7043 non-null object\n",
      "SeniorCitizen       7043 non-null int64\n",
      "Partner             7043 non-null object\n",
      "Dependents          7043 non-null object\n",
      "tenure              7043 non-null int64\n",
      "PhoneService        7043 non-null object\n",
      "MultipleLines       7043 non-null object\n",
      "InternetService     7043 non-null object\n",
      "OnlineSecurity      7043 non-null object\n",
      "OnlineBackup        7043 non-null object\n",
      "DeviceProtection    7043 non-null object\n",
      "TechSupport         7043 non-null object\n",
      "StreamingTV         7043 non-null object\n",
      "StreamingMovies     7043 non-null object\n",
      "Contract            7043 non-null object\n",
      "PaperlessBilling    7043 non-null object\n",
      "PaymentMethod       7043 non-null object\n",
      "MonthlyCharges      7043 non-null float64\n",
      "TotalCharges        7043 non-null object\n",
      "Churn               7043 non-null object\n",
      "dtypes: float64(1), int64(2), object(17)\n",
      "memory usage: 1.1+ MB\n"
     ]
    }
   ],
   "source": [
    "df.info()"
   ]
  },
  {
   "cell_type": "code",
   "execution_count": 9,
   "metadata": {
    "collapsed": false
   },
   "outputs": [
    {
     "data": {
      "text/plain": [
       "gender                 2\n",
       "SeniorCitizen          2\n",
       "Partner                2\n",
       "Dependents             2\n",
       "tenure                73\n",
       "PhoneService           2\n",
       "MultipleLines          3\n",
       "InternetService        3\n",
       "OnlineSecurity         3\n",
       "OnlineBackup           3\n",
       "DeviceProtection       3\n",
       "TechSupport            3\n",
       "StreamingTV            3\n",
       "StreamingMovies        3\n",
       "Contract               3\n",
       "PaperlessBilling       2\n",
       "PaymentMethod          4\n",
       "MonthlyCharges      1585\n",
       "TotalCharges        6531\n",
       "Churn                  2\n",
       "dtype: int64"
      ]
     },
     "execution_count": 9,
     "metadata": {},
     "output_type": "execute_result"
    }
   ],
   "source": [
    "#每列有多少不同的类型\n",
    "df.nunique()"
   ]
  },
  {
   "cell_type": "markdown",
   "metadata": {},
   "source": [
    "## 检查有没有NaN值和missin values"
   ]
  },
  {
   "cell_type": "code",
   "execution_count": 10,
   "metadata": {
    "collapsed": false
   },
   "outputs": [
    {
     "data": {
      "text/plain": [
       "gender              0\n",
       "SeniorCitizen       0\n",
       "Partner             0\n",
       "Dependents          0\n",
       "tenure              0\n",
       "PhoneService        0\n",
       "MultipleLines       0\n",
       "InternetService     0\n",
       "OnlineSecurity      0\n",
       "OnlineBackup        0\n",
       "DeviceProtection    0\n",
       "TechSupport         0\n",
       "StreamingTV         0\n",
       "StreamingMovies     0\n",
       "Contract            0\n",
       "PaperlessBilling    0\n",
       "PaymentMethod       0\n",
       "MonthlyCharges      0\n",
       "TotalCharges        0\n",
       "Churn               0\n",
       "dtype: int64"
      ]
     },
     "execution_count": 10,
     "metadata": {},
     "output_type": "execute_result"
    }
   ],
   "source": [
    "#检查有没有NaN值\n",
    "\n",
    "df.isnull().sum()"
   ]
  },
  {
   "cell_type": "code",
   "execution_count": 11,
   "metadata": {
    "collapsed": false,
    "scrolled": true
   },
   "outputs": [
    {
     "name": "stdout",
     "output_type": "stream",
     "text": [
      "gender\n",
      "Male      3555\n",
      "Female    3488\n",
      "Name: gender, dtype: int64\n",
      "____________________________\n",
      "                    \n",
      "SeniorCitizen\n",
      "0    5901\n",
      "1    1142\n",
      "Name: SeniorCitizen, dtype: int64\n",
      "____________________________\n",
      "                    \n",
      "Partner\n",
      "No     3641\n",
      "Yes    3402\n",
      "Name: Partner, dtype: int64\n",
      "____________________________\n",
      "                    \n",
      "Dependents\n",
      "No     4933\n",
      "Yes    2110\n",
      "Name: Dependents, dtype: int64\n",
      "____________________________\n",
      "                    \n",
      "tenure\n",
      "1     613\n",
      "72    362\n",
      "2     238\n",
      "3     200\n",
      "4     176\n",
      "71    170\n",
      "5     133\n",
      "7     131\n",
      "8     123\n",
      "70    119\n",
      "9     119\n",
      "12    117\n",
      "10    116\n",
      "6     110\n",
      "13    109\n",
      "68    100\n",
      "15     99\n",
      "11     99\n",
      "67     98\n",
      "18     97\n",
      "69     95\n",
      "24     94\n",
      "22     90\n",
      "66     89\n",
      "35     88\n",
      "17     87\n",
      "23     85\n",
      "64     80\n",
      "56     80\n",
      "16     80\n",
      "     ... \n",
      "20     71\n",
      "62     70\n",
      "41     70\n",
      "53     70\n",
      "32     69\n",
      "54     68\n",
      "47     68\n",
      "50     68\n",
      "51     68\n",
      "58     67\n",
      "49     66\n",
      "43     65\n",
      "42     65\n",
      "31     65\n",
      "34     65\n",
      "37     65\n",
      "57     65\n",
      "55     64\n",
      "40     64\n",
      "48     64\n",
      "33     64\n",
      "21     63\n",
      "45     61\n",
      "59     60\n",
      "38     59\n",
      "28     57\n",
      "39     56\n",
      "44     51\n",
      "36     50\n",
      "0      11\n",
      "Name: tenure, Length: 73, dtype: int64\n",
      "____________________________\n",
      "                    \n",
      "PhoneService\n",
      "Yes    6361\n",
      "No      682\n",
      "Name: PhoneService, dtype: int64\n",
      "____________________________\n",
      "                    \n",
      "MultipleLines\n",
      "No                  3390\n",
      "Yes                 2971\n",
      "No phone service     682\n",
      "Name: MultipleLines, dtype: int64\n",
      "____________________________\n",
      "                    \n",
      "InternetService\n",
      "Fiber optic    3096\n",
      "DSL            2421\n",
      "No             1526\n",
      "Name: InternetService, dtype: int64\n",
      "____________________________\n",
      "                    \n",
      "OnlineSecurity\n",
      "No                     3498\n",
      "Yes                    2019\n",
      "No internet service    1526\n",
      "Name: OnlineSecurity, dtype: int64\n",
      "____________________________\n",
      "                    \n",
      "OnlineBackup\n",
      "No                     3088\n",
      "Yes                    2429\n",
      "No internet service    1526\n",
      "Name: OnlineBackup, dtype: int64\n",
      "____________________________\n",
      "                    \n",
      "DeviceProtection\n",
      "No                     3095\n",
      "Yes                    2422\n",
      "No internet service    1526\n",
      "Name: DeviceProtection, dtype: int64\n",
      "____________________________\n",
      "                    \n",
      "TechSupport\n",
      "No                     3473\n",
      "Yes                    2044\n",
      "No internet service    1526\n",
      "Name: TechSupport, dtype: int64\n",
      "____________________________\n",
      "                    \n",
      "StreamingTV\n",
      "No                     2810\n",
      "Yes                    2707\n",
      "No internet service    1526\n",
      "Name: StreamingTV, dtype: int64\n",
      "____________________________\n",
      "                    \n",
      "StreamingMovies\n",
      "No                     2785\n",
      "Yes                    2732\n",
      "No internet service    1526\n",
      "Name: StreamingMovies, dtype: int64\n",
      "____________________________\n",
      "                    \n",
      "Contract\n",
      "Month-to-month    3875\n",
      "Two year          1695\n",
      "One year          1473\n",
      "Name: Contract, dtype: int64\n",
      "____________________________\n",
      "                    \n",
      "PaperlessBilling\n",
      "Yes    4171\n",
      "No     2872\n",
      "Name: PaperlessBilling, dtype: int64\n",
      "____________________________\n",
      "                    \n",
      "PaymentMethod\n",
      "Electronic check             2365\n",
      "Mailed check                 1612\n",
      "Bank transfer (automatic)    1544\n",
      "Credit card (automatic)      1522\n",
      "Name: PaymentMethod, dtype: int64\n",
      "____________________________\n",
      "                    \n",
      "MonthlyCharges\n",
      "20.05     61\n",
      "19.85     45\n",
      "19.95     44\n",
      "19.90     44\n",
      "20.00     43\n",
      "19.70     43\n",
      "19.65     43\n",
      "19.55     40\n",
      "20.15     40\n",
      "19.75     39\n",
      "20.25     39\n",
      "20.35     38\n",
      "19.80     38\n",
      "19.60     37\n",
      "20.10     37\n",
      "20.20     35\n",
      "19.50     32\n",
      "19.40     31\n",
      "20.45     31\n",
      "20.40     30\n",
      "19.45     28\n",
      "20.50     28\n",
      "20.30     28\n",
      "20.55     27\n",
      "19.35     25\n",
      "19.30     24\n",
      "20.65     23\n",
      "25.25     20\n",
      "25.10     19\n",
      "19.25     18\n",
      "          ..\n",
      "67.50      1\n",
      "33.50      1\n",
      "48.15      1\n",
      "31.10      1\n",
      "39.95      1\n",
      "81.65      1\n",
      "117.45     1\n",
      "107.00     1\n",
      "66.35      1\n",
      "62.30      1\n",
      "112.60     1\n",
      "110.70     1\n",
      "28.60      1\n",
      "108.60     1\n",
      "73.10      1\n",
      "39.55      1\n",
      "53.70      1\n",
      "21.30      1\n",
      "18.40      1\n",
      "67.60      1\n",
      "33.75      1\n",
      "29.40      1\n",
      "57.80      1\n",
      "34.55      1\n",
      "107.65     1\n",
      "114.75     1\n",
      "103.60     1\n",
      "113.40     1\n",
      "57.65      1\n",
      "113.30     1\n",
      "Name: MonthlyCharges, Length: 1585, dtype: int64\n",
      "____________________________\n",
      "                    \n",
      "TotalCharges\n",
      "20.2       11\n",
      "           11\n",
      "19.75       9\n",
      "19.65       8\n",
      "20.05       8\n",
      "19.9        8\n",
      "45.3        7\n",
      "19.55       7\n",
      "20.15       6\n",
      "19.45       6\n",
      "20.25       6\n",
      "20.3        5\n",
      "20.45       5\n",
      "19.3        4\n",
      "49.9        4\n",
      "70.6        4\n",
      "75.3        4\n",
      "50.15       4\n",
      "69.9        4\n",
      "19.4        4\n",
      "20.35       4\n",
      "19.5        4\n",
      "44          4\n",
      "69.95       4\n",
      "19.95       4\n",
      "19.85       4\n",
      "20.5        4\n",
      "19.2        4\n",
      "20.4        4\n",
      "69.6        4\n",
      "           ..\n",
      "460.2       1\n",
      "120.25      1\n",
      "3160.55     1\n",
      "4464.8      1\n",
      "2838.55     1\n",
      "1004.75     1\n",
      "1375.4      1\n",
      "292.8       1\n",
      "231.8       1\n",
      "1046.2      1\n",
      "864.85      1\n",
      "2689.35     1\n",
      "5688.05     1\n",
      "7118.9      1\n",
      "6725.5      1\n",
      "5375.15     1\n",
      "666         1\n",
      "1790.15     1\n",
      "2496.7      1\n",
      "637.55      1\n",
      "77.5        1\n",
      "780.1       1\n",
      "420.2       1\n",
      "973.95      1\n",
      "853.1       1\n",
      "2921.75     1\n",
      "1546.3      1\n",
      "2345.55     1\n",
      "306.6       1\n",
      "285.2       1\n",
      "Name: TotalCharges, Length: 6531, dtype: int64\n",
      "____________________________\n",
      "                    \n",
      "Churn\n",
      "No     5174\n",
      "Yes    1869\n",
      "Name: Churn, dtype: int64\n",
      "____________________________\n",
      "                    \n"
     ]
    }
   ],
   "source": [
    "#列出每列（除了customerID列）不同值的统计，看到有没有漏掉的 missing values\n",
    "\n",
    "for column in df.columns:\n",
    "    if df[column].nunique() < 7043:  #换成7043\n",
    "        print (column)\n",
    "        print(df[column].value_counts())\n",
    "        print ('____________________________')\n",
    "        print (\"                    \")"
   ]
  },
  {
   "cell_type": "markdown",
   "metadata": {},
   "source": [
    "## 发现："
   ]
  },
  {
   "cell_type": "markdown",
   "metadata": {},
   "source": [
    "### 1. “TotalCharges”列有11个空值。来看一下这11个空值有没有什么规律，是否流失。"
   ]
  },
  {
   "cell_type": "code",
   "execution_count": 12,
   "metadata": {
    "collapsed": false
   },
   "outputs": [
    {
     "data": {
      "text/html": [
       "<div>\n",
       "<style scoped>\n",
       "    .dataframe tbody tr th:only-of-type {\n",
       "        vertical-align: middle;\n",
       "    }\n",
       "\n",
       "    .dataframe tbody tr th {\n",
       "        vertical-align: top;\n",
       "    }\n",
       "\n",
       "    .dataframe thead th {\n",
       "        text-align: right;\n",
       "    }\n",
       "</style>\n",
       "<table border=\"1\" class=\"dataframe\">\n",
       "  <thead>\n",
       "    <tr style=\"text-align: right;\">\n",
       "      <th></th>\n",
       "      <th>gender</th>\n",
       "      <th>SeniorCitizen</th>\n",
       "      <th>Partner</th>\n",
       "      <th>Dependents</th>\n",
       "      <th>tenure</th>\n",
       "      <th>PhoneService</th>\n",
       "      <th>MultipleLines</th>\n",
       "      <th>InternetService</th>\n",
       "      <th>OnlineSecurity</th>\n",
       "      <th>OnlineBackup</th>\n",
       "      <th>DeviceProtection</th>\n",
       "      <th>TechSupport</th>\n",
       "      <th>StreamingTV</th>\n",
       "      <th>StreamingMovies</th>\n",
       "      <th>Contract</th>\n",
       "      <th>PaperlessBilling</th>\n",
       "      <th>PaymentMethod</th>\n",
       "      <th>MonthlyCharges</th>\n",
       "      <th>TotalCharges</th>\n",
       "      <th>Churn</th>\n",
       "    </tr>\n",
       "  </thead>\n",
       "  <tbody>\n",
       "    <tr>\n",
       "      <th>488</th>\n",
       "      <td>Female</td>\n",
       "      <td>0</td>\n",
       "      <td>Yes</td>\n",
       "      <td>Yes</td>\n",
       "      <td>0</td>\n",
       "      <td>No</td>\n",
       "      <td>No phone service</td>\n",
       "      <td>DSL</td>\n",
       "      <td>Yes</td>\n",
       "      <td>No</td>\n",
       "      <td>Yes</td>\n",
       "      <td>Yes</td>\n",
       "      <td>Yes</td>\n",
       "      <td>No</td>\n",
       "      <td>Two year</td>\n",
       "      <td>Yes</td>\n",
       "      <td>Bank transfer (automatic)</td>\n",
       "      <td>52.55</td>\n",
       "      <td></td>\n",
       "      <td>No</td>\n",
       "    </tr>\n",
       "    <tr>\n",
       "      <th>753</th>\n",
       "      <td>Male</td>\n",
       "      <td>0</td>\n",
       "      <td>No</td>\n",
       "      <td>Yes</td>\n",
       "      <td>0</td>\n",
       "      <td>Yes</td>\n",
       "      <td>No</td>\n",
       "      <td>No</td>\n",
       "      <td>No internet service</td>\n",
       "      <td>No internet service</td>\n",
       "      <td>No internet service</td>\n",
       "      <td>No internet service</td>\n",
       "      <td>No internet service</td>\n",
       "      <td>No internet service</td>\n",
       "      <td>Two year</td>\n",
       "      <td>No</td>\n",
       "      <td>Mailed check</td>\n",
       "      <td>20.25</td>\n",
       "      <td></td>\n",
       "      <td>No</td>\n",
       "    </tr>\n",
       "    <tr>\n",
       "      <th>936</th>\n",
       "      <td>Female</td>\n",
       "      <td>0</td>\n",
       "      <td>Yes</td>\n",
       "      <td>Yes</td>\n",
       "      <td>0</td>\n",
       "      <td>Yes</td>\n",
       "      <td>No</td>\n",
       "      <td>DSL</td>\n",
       "      <td>Yes</td>\n",
       "      <td>Yes</td>\n",
       "      <td>Yes</td>\n",
       "      <td>No</td>\n",
       "      <td>Yes</td>\n",
       "      <td>Yes</td>\n",
       "      <td>Two year</td>\n",
       "      <td>No</td>\n",
       "      <td>Mailed check</td>\n",
       "      <td>80.85</td>\n",
       "      <td></td>\n",
       "      <td>No</td>\n",
       "    </tr>\n",
       "    <tr>\n",
       "      <th>1082</th>\n",
       "      <td>Male</td>\n",
       "      <td>0</td>\n",
       "      <td>Yes</td>\n",
       "      <td>Yes</td>\n",
       "      <td>0</td>\n",
       "      <td>Yes</td>\n",
       "      <td>Yes</td>\n",
       "      <td>No</td>\n",
       "      <td>No internet service</td>\n",
       "      <td>No internet service</td>\n",
       "      <td>No internet service</td>\n",
       "      <td>No internet service</td>\n",
       "      <td>No internet service</td>\n",
       "      <td>No internet service</td>\n",
       "      <td>Two year</td>\n",
       "      <td>No</td>\n",
       "      <td>Mailed check</td>\n",
       "      <td>25.75</td>\n",
       "      <td></td>\n",
       "      <td>No</td>\n",
       "    </tr>\n",
       "    <tr>\n",
       "      <th>1340</th>\n",
       "      <td>Female</td>\n",
       "      <td>0</td>\n",
       "      <td>Yes</td>\n",
       "      <td>Yes</td>\n",
       "      <td>0</td>\n",
       "      <td>No</td>\n",
       "      <td>No phone service</td>\n",
       "      <td>DSL</td>\n",
       "      <td>Yes</td>\n",
       "      <td>Yes</td>\n",
       "      <td>Yes</td>\n",
       "      <td>Yes</td>\n",
       "      <td>Yes</td>\n",
       "      <td>No</td>\n",
       "      <td>Two year</td>\n",
       "      <td>No</td>\n",
       "      <td>Credit card (automatic)</td>\n",
       "      <td>56.05</td>\n",
       "      <td></td>\n",
       "      <td>No</td>\n",
       "    </tr>\n",
       "    <tr>\n",
       "      <th>3331</th>\n",
       "      <td>Male</td>\n",
       "      <td>0</td>\n",
       "      <td>Yes</td>\n",
       "      <td>Yes</td>\n",
       "      <td>0</td>\n",
       "      <td>Yes</td>\n",
       "      <td>No</td>\n",
       "      <td>No</td>\n",
       "      <td>No internet service</td>\n",
       "      <td>No internet service</td>\n",
       "      <td>No internet service</td>\n",
       "      <td>No internet service</td>\n",
       "      <td>No internet service</td>\n",
       "      <td>No internet service</td>\n",
       "      <td>Two year</td>\n",
       "      <td>No</td>\n",
       "      <td>Mailed check</td>\n",
       "      <td>19.85</td>\n",
       "      <td></td>\n",
       "      <td>No</td>\n",
       "    </tr>\n",
       "    <tr>\n",
       "      <th>3826</th>\n",
       "      <td>Male</td>\n",
       "      <td>0</td>\n",
       "      <td>Yes</td>\n",
       "      <td>Yes</td>\n",
       "      <td>0</td>\n",
       "      <td>Yes</td>\n",
       "      <td>Yes</td>\n",
       "      <td>No</td>\n",
       "      <td>No internet service</td>\n",
       "      <td>No internet service</td>\n",
       "      <td>No internet service</td>\n",
       "      <td>No internet service</td>\n",
       "      <td>No internet service</td>\n",
       "      <td>No internet service</td>\n",
       "      <td>Two year</td>\n",
       "      <td>No</td>\n",
       "      <td>Mailed check</td>\n",
       "      <td>25.35</td>\n",
       "      <td></td>\n",
       "      <td>No</td>\n",
       "    </tr>\n",
       "    <tr>\n",
       "      <th>4380</th>\n",
       "      <td>Female</td>\n",
       "      <td>0</td>\n",
       "      <td>Yes</td>\n",
       "      <td>Yes</td>\n",
       "      <td>0</td>\n",
       "      <td>Yes</td>\n",
       "      <td>No</td>\n",
       "      <td>No</td>\n",
       "      <td>No internet service</td>\n",
       "      <td>No internet service</td>\n",
       "      <td>No internet service</td>\n",
       "      <td>No internet service</td>\n",
       "      <td>No internet service</td>\n",
       "      <td>No internet service</td>\n",
       "      <td>Two year</td>\n",
       "      <td>No</td>\n",
       "      <td>Mailed check</td>\n",
       "      <td>20.00</td>\n",
       "      <td></td>\n",
       "      <td>No</td>\n",
       "    </tr>\n",
       "    <tr>\n",
       "      <th>5218</th>\n",
       "      <td>Male</td>\n",
       "      <td>0</td>\n",
       "      <td>Yes</td>\n",
       "      <td>Yes</td>\n",
       "      <td>0</td>\n",
       "      <td>Yes</td>\n",
       "      <td>No</td>\n",
       "      <td>No</td>\n",
       "      <td>No internet service</td>\n",
       "      <td>No internet service</td>\n",
       "      <td>No internet service</td>\n",
       "      <td>No internet service</td>\n",
       "      <td>No internet service</td>\n",
       "      <td>No internet service</td>\n",
       "      <td>One year</td>\n",
       "      <td>Yes</td>\n",
       "      <td>Mailed check</td>\n",
       "      <td>19.70</td>\n",
       "      <td></td>\n",
       "      <td>No</td>\n",
       "    </tr>\n",
       "    <tr>\n",
       "      <th>6670</th>\n",
       "      <td>Female</td>\n",
       "      <td>0</td>\n",
       "      <td>Yes</td>\n",
       "      <td>Yes</td>\n",
       "      <td>0</td>\n",
       "      <td>Yes</td>\n",
       "      <td>Yes</td>\n",
       "      <td>DSL</td>\n",
       "      <td>No</td>\n",
       "      <td>Yes</td>\n",
       "      <td>Yes</td>\n",
       "      <td>Yes</td>\n",
       "      <td>Yes</td>\n",
       "      <td>No</td>\n",
       "      <td>Two year</td>\n",
       "      <td>No</td>\n",
       "      <td>Mailed check</td>\n",
       "      <td>73.35</td>\n",
       "      <td></td>\n",
       "      <td>No</td>\n",
       "    </tr>\n",
       "    <tr>\n",
       "      <th>6754</th>\n",
       "      <td>Male</td>\n",
       "      <td>0</td>\n",
       "      <td>No</td>\n",
       "      <td>Yes</td>\n",
       "      <td>0</td>\n",
       "      <td>Yes</td>\n",
       "      <td>Yes</td>\n",
       "      <td>DSL</td>\n",
       "      <td>Yes</td>\n",
       "      <td>Yes</td>\n",
       "      <td>No</td>\n",
       "      <td>Yes</td>\n",
       "      <td>No</td>\n",
       "      <td>No</td>\n",
       "      <td>Two year</td>\n",
       "      <td>Yes</td>\n",
       "      <td>Bank transfer (automatic)</td>\n",
       "      <td>61.90</td>\n",
       "      <td></td>\n",
       "      <td>No</td>\n",
       "    </tr>\n",
       "  </tbody>\n",
       "</table>\n",
       "</div>"
      ],
      "text/plain": [
       "      gender  SeniorCitizen Partner Dependents  tenure PhoneService  \\\n",
       "488   Female              0     Yes        Yes       0           No   \n",
       "753     Male              0      No        Yes       0          Yes   \n",
       "936   Female              0     Yes        Yes       0          Yes   \n",
       "1082    Male              0     Yes        Yes       0          Yes   \n",
       "1340  Female              0     Yes        Yes       0           No   \n",
       "3331    Male              0     Yes        Yes       0          Yes   \n",
       "3826    Male              0     Yes        Yes       0          Yes   \n",
       "4380  Female              0     Yes        Yes       0          Yes   \n",
       "5218    Male              0     Yes        Yes       0          Yes   \n",
       "6670  Female              0     Yes        Yes       0          Yes   \n",
       "6754    Male              0      No        Yes       0          Yes   \n",
       "\n",
       "         MultipleLines InternetService       OnlineSecurity  \\\n",
       "488   No phone service             DSL                  Yes   \n",
       "753                 No              No  No internet service   \n",
       "936                 No             DSL                  Yes   \n",
       "1082               Yes              No  No internet service   \n",
       "1340  No phone service             DSL                  Yes   \n",
       "3331                No              No  No internet service   \n",
       "3826               Yes              No  No internet service   \n",
       "4380                No              No  No internet service   \n",
       "5218                No              No  No internet service   \n",
       "6670               Yes             DSL                   No   \n",
       "6754               Yes             DSL                  Yes   \n",
       "\n",
       "             OnlineBackup     DeviceProtection          TechSupport  \\\n",
       "488                    No                  Yes                  Yes   \n",
       "753   No internet service  No internet service  No internet service   \n",
       "936                   Yes                  Yes                   No   \n",
       "1082  No internet service  No internet service  No internet service   \n",
       "1340                  Yes                  Yes                  Yes   \n",
       "3331  No internet service  No internet service  No internet service   \n",
       "3826  No internet service  No internet service  No internet service   \n",
       "4380  No internet service  No internet service  No internet service   \n",
       "5218  No internet service  No internet service  No internet service   \n",
       "6670                  Yes                  Yes                  Yes   \n",
       "6754                  Yes                   No                  Yes   \n",
       "\n",
       "              StreamingTV      StreamingMovies  Contract PaperlessBilling  \\\n",
       "488                   Yes                   No  Two year              Yes   \n",
       "753   No internet service  No internet service  Two year               No   \n",
       "936                   Yes                  Yes  Two year               No   \n",
       "1082  No internet service  No internet service  Two year               No   \n",
       "1340                  Yes                   No  Two year               No   \n",
       "3331  No internet service  No internet service  Two year               No   \n",
       "3826  No internet service  No internet service  Two year               No   \n",
       "4380  No internet service  No internet service  Two year               No   \n",
       "5218  No internet service  No internet service  One year              Yes   \n",
       "6670                  Yes                   No  Two year               No   \n",
       "6754                   No                   No  Two year              Yes   \n",
       "\n",
       "                  PaymentMethod  MonthlyCharges TotalCharges Churn  \n",
       "488   Bank transfer (automatic)           52.55                 No  \n",
       "753                Mailed check           20.25                 No  \n",
       "936                Mailed check           80.85                 No  \n",
       "1082               Mailed check           25.75                 No  \n",
       "1340    Credit card (automatic)           56.05                 No  \n",
       "3331               Mailed check           19.85                 No  \n",
       "3826               Mailed check           25.35                 No  \n",
       "4380               Mailed check           20.00                 No  \n",
       "5218               Mailed check           19.70                 No  \n",
       "6670               Mailed check           73.35                 No  \n",
       "6754  Bank transfer (automatic)           61.90                 No  "
      ]
     },
     "execution_count": 12,
     "metadata": {},
     "output_type": "execute_result"
    }
   ],
   "source": [
    "df[df['TotalCharges'] == \" \"]"
   ]
  },
  {
   "cell_type": "markdown",
   "metadata": {},
   "source": [
    "发现所有totalcharges为空的值，都是tenure为0的11个值，也就是刚开户还不到一个月的客户，因此把totalcharges的空值全部填充为0。"
   ]
  },
  {
   "cell_type": "markdown",
   "metadata": {},
   "source": [
    "### 2. “PhoneService” 列的所有\"No\"值 与 “MultipleLines”列的所有\"No Phone Service”值一一对应。\n",
    "\n",
    "分析：因为multiple lines就是针对phone service的服务，即电话功能的多线服务，所以如果没有phone servise，那么也不可能存在多线服务，所以可以把“MultipleLines”列的所有\"No Phone Service”值改为 “No”。"
   ]
  },
  {
   "cell_type": "markdown",
   "metadata": {},
   "source": [
    "###   3. “OnlineSecurity”列、“OnlineBackup”列、“DeviceProtection”列、“TechSupport”列、“StreamingTV”列、\n",
    "### “StreamingMovies”列里的所有“No internet service”值 与 “InternetService”列的所有“No”值一一对应。\n",
    "\n",
    "分析：因为这6列的服务就是针对internet service的服务，所以如果没有internet servise，其他6列的\"No internet Service”值改为 “No”。"
   ]
  },
  {
   "cell_type": "markdown",
   "metadata": {
    "collapsed": true
   },
   "source": [
    "# 清洗数据"
   ]
  },
  {
   "cell_type": "markdown",
   "metadata": {
    "collapsed": true
   },
   "source": [
    "## 1. TotalCharges 被转换成 float，并把所有空值填充为0"
   ]
  },
  {
   "cell_type": "code",
   "execution_count": 13,
   "metadata": {
    "collapsed": true
   },
   "outputs": [],
   "source": [
    "df['TotalCharges'] = pd.to_numeric(df['TotalCharges'],errors='coerce')"
   ]
  },
  {
   "cell_type": "code",
   "execution_count": 14,
   "metadata": {
    "collapsed": true
   },
   "outputs": [],
   "source": [
    "df['TotalCharges'].fillna(0, inplace=True)"
   ]
  },
  {
   "cell_type": "markdown",
   "metadata": {},
   "source": [
    "## 2. 把 “MultipleLines”列的所有\"No Phone Service”值改为 “No”; \n",
    "\n",
    "## 把 “OnlineSecurity”列、“OnlineBackup”列、“DeviceProtection”列、“TechSupport”列、 “StreamingTV”列、“StreamingMovies”列里的所有“No internet service”值改为“No”"
   ]
  },
  {
   "cell_type": "code",
   "execution_count": 15,
   "metadata": {
    "collapsed": true
   },
   "outputs": [],
   "source": [
    "for column in ['MultipleLines', 'OnlineSecurity', 'OnlineBackup', 'DeviceProtection', 'TechSupport',\\\n",
    "               'StreamingTV', 'StreamingMovies']:\n",
    "    \n",
    "    df[column] = df[column].replace(['No internet service', 'No phone service'], 'No')"
   ]
  },
  {
   "cell_type": "markdown",
   "metadata": {},
   "source": [
    "## 3. 每列数据类型分为：\n",
    "\n",
    "## numeric: \n",
    "tenure, MonthlyCharges, TotalCharges\n",
    "## categorical: \n",
    "gender, SeniorCitizen, Partner, Dependents, PhoneService, MultipleLines, InternetService, OnlineSecurity, OnlineBackup, DeviceProtection, TechSupport, StreamingTV, StreamingMovies, Contract, PaperlessBilling, PaymentMethod\n",
    "## target:\n",
    "Churn\n",
    "\n",
    "\n",
    "\n",
    "\n",
    "## 对categorial数据进行LabelEncoder转化（如果只有两类），以及LabelEncoder + OneHotEncoder转化（两类以上）"
   ]
  },
  {
   "cell_type": "code",
   "execution_count": 16,
   "metadata": {
    "collapsed": false
   },
   "outputs": [
    {
     "name": "stdout",
     "output_type": "stream",
     "text": [
      "gender {'Male': 1, 'Female': 0}\n",
      "SeniorCitizen {0: 0, 1: 1}\n",
      "Partner {'No': 0, 'Yes': 1}\n",
      "Dependents {'No': 0, 'Yes': 1}\n",
      "PhoneService {'No': 0, 'Yes': 1}\n",
      "MultipleLines {'No': 0, 'Yes': 1}\n",
      "OnlineSecurity {'No': 0, 'Yes': 1}\n",
      "OnlineBackup {'No': 0, 'Yes': 1}\n",
      "DeviceProtection {'No': 0, 'Yes': 1}\n",
      "TechSupport {'No': 0, 'Yes': 1}\n",
      "StreamingTV {'No': 0, 'Yes': 1}\n",
      "StreamingMovies {'No': 0, 'Yes': 1}\n",
      "PaperlessBilling {'No': 0, 'Yes': 1}\n",
      "Churn {'No': 0, 'Yes': 1}\n"
     ]
    },
    {
     "name": "stderr",
     "output_type": "stream",
     "text": [
      "C:\\Users\\youfe\\Anaconda3\\lib\\site-packages\\sklearn\\preprocessing\\_encoders.py:414: FutureWarning:\n",
      "\n",
      "The handling of integer data will change in version 0.22. Currently, the categories are determined based on the range [0, max(values)], while in the future they will be determined based on the unique values.\n",
      "If you want the future behaviour and silence this warning, you can specify \"categories='auto'\".\n",
      "In case you used a LabelEncoder before this OneHotEncoder to convert the categories to integers, then you can now use the OneHotEncoder directly.\n",
      "\n",
      "C:\\Users\\youfe\\Anaconda3\\lib\\site-packages\\sklearn\\preprocessing\\_encoders.py:414: FutureWarning:\n",
      "\n",
      "The handling of integer data will change in version 0.22. Currently, the categories are determined based on the range [0, max(values)], while in the future they will be determined based on the unique values.\n",
      "If you want the future behaviour and silence this warning, you can specify \"categories='auto'\".\n",
      "In case you used a LabelEncoder before this OneHotEncoder to convert the categories to integers, then you can now use the OneHotEncoder directly.\n",
      "\n",
      "C:\\Users\\youfe\\Anaconda3\\lib\\site-packages\\sklearn\\preprocessing\\_encoders.py:414: FutureWarning:\n",
      "\n",
      "The handling of integer data will change in version 0.22. Currently, the categories are determined based on the range [0, max(values)], while in the future they will be determined based on the unique values.\n",
      "If you want the future behaviour and silence this warning, you can specify \"categories='auto'\".\n",
      "In case you used a LabelEncoder before this OneHotEncoder to convert the categories to integers, then you can now use the OneHotEncoder directly.\n",
      "\n"
     ]
    }
   ],
   "source": [
    "for col in ['gender','SeniorCitizen','Partner','Dependents','PhoneService','MultipleLines','InternetService',\\\n",
    "            'OnlineSecurity','OnlineBackup','DeviceProtection','TechSupport','StreamingTV','StreamingMovies','Contract',\\\n",
    "            'PaperlessBilling', 'PaymentMethod','Churn']:\n",
    "    if df[col].dtype != np.number:\n",
    "    # from categorial to numeric\n",
    "        le = LabelEncoder()\n",
    "        le_labels = le.fit_transform(df[col])\n",
    "        col_label = col + '_' +'Label'\n",
    "        df[col_label] = le_labels\n",
    "        \n",
    "        # map labelencoder to 'yes' and 'no'\n",
    "        if len(le.classes_) == 2:\n",
    "            le_name_mapping = dict(zip(le.classes_, le.transform(le.classes_)))\n",
    "            print (col, le_name_mapping)\n",
    "        \n",
    "        # delete orginal data since it has turned to LabelEncoder form and stored in df[col_label] column\n",
    "        del df[col]\n",
    "        \n",
    "        \n",
    "        \n",
    "        # if has more than 2 categories, need to turn to OneHotEncoder form:\n",
    "        if len(le.classes_) > 2:\n",
    "        \n",
    "     # from numeric to onehot\n",
    "            le_hot = OneHotEncoder()\n",
    "            hot_feature_arr = le_hot.fit_transform(df[[col_label]]).toarray()\n",
    "            hot_feature_labels = [col+'_'+str(cls_label) for cls_label in le.classes_]                         \n",
    "            hot_features = pd.DataFrame(hot_feature_arr, columns=hot_feature_labels)\n",
    "    \n",
    "    # add onehot to df\n",
    "            df = pd.concat([df, hot_features], axis=1)\n",
    "        \n",
    "    # delete col_label since it has turned to OneHotEncoder form and stored in df[hot_feature_labels] columns\n",
    "            df.drop([col_label], axis=1, inplace=True)\n",
    "            \n",
    "                            \n",
    "        \n",
    "        \n",
    "        "
   ]
  },
  {
   "cell_type": "code",
   "execution_count": 17,
   "metadata": {
    "collapsed": false
   },
   "outputs": [
    {
     "data": {
      "text/plain": [
       "array(['tenure', 'MonthlyCharges', 'TotalCharges', 'gender_Label',\n",
       "       'SeniorCitizen_Label', 'Partner_Label', 'Dependents_Label',\n",
       "       'PhoneService_Label', 'MultipleLines_Label', 'InternetService_DSL',\n",
       "       'InternetService_Fiber optic', 'InternetService_No',\n",
       "       'OnlineSecurity_Label', 'OnlineBackup_Label',\n",
       "       'DeviceProtection_Label', 'TechSupport_Label', 'StreamingTV_Label',\n",
       "       'StreamingMovies_Label', 'Contract_Month-to-month',\n",
       "       'Contract_One year', 'Contract_Two year', 'PaperlessBilling_Label',\n",
       "       'PaymentMethod_Bank transfer (automatic)',\n",
       "       'PaymentMethod_Credit card (automatic)',\n",
       "       'PaymentMethod_Electronic check', 'PaymentMethod_Mailed check',\n",
       "       'Churn_Label'], dtype=object)"
      ]
     },
     "execution_count": 17,
     "metadata": {},
     "output_type": "execute_result"
    }
   ],
   "source": [
    "# 列出数据清洗后的所有列名\n",
    "df.columns.values"
   ]
  },
  {
   "cell_type": "code",
   "execution_count": 18,
   "metadata": {
    "collapsed": false
   },
   "outputs": [
    {
     "data": {
      "text/plain": [
       "(7043, 27)"
      ]
     },
     "execution_count": 18,
     "metadata": {},
     "output_type": "execute_result"
    }
   ],
   "source": [
    "df.shape"
   ]
  },
  {
   "cell_type": "markdown",
   "metadata": {},
   "source": [
    "数据已经准备好了，接下来看一下所有变量里两两之间的corrlation。"
   ]
  },
  {
   "cell_type": "code",
   "execution_count": 19,
   "metadata": {
    "collapsed": false
   },
   "outputs": [
    {
     "data": {
      "application/vnd.plotly.v1+json": {
       "config": {
        "linkText": "Export to plot.ly",
        "plotlyServerURL": "https://plot.ly",
        "showLink": false
       },
       "data": [
        {
         "colorbar": {
          "title": {
           "side": "right",
           "text": "Pearson Correlation coefficient"
          }
         },
         "colorscale": [
          [
           0,
           "#440154"
          ],
          [
           0.1111111111111111,
           "#482878"
          ],
          [
           0.2222222222222222,
           "#3e4989"
          ],
          [
           0.3333333333333333,
           "#31688e"
          ],
          [
           0.4444444444444444,
           "#26828e"
          ],
          [
           0.5555555555555556,
           "#1f9e89"
          ],
          [
           0.6666666666666666,
           "#35b779"
          ],
          [
           0.7777777777777778,
           "#6ece58"
          ],
          [
           0.8888888888888888,
           "#b5de2b"
          ],
          [
           1,
           "#fde725"
          ]
         ],
         "type": "heatmap",
         "x": [
          "tenure",
          "MonthlyCharges",
          "TotalCharges",
          "gender_Label",
          "SeniorCitizen_Label",
          "Partner_Label",
          "Dependents_Label",
          "PhoneService_Label",
          "MultipleLines_Label",
          "InternetService_DSL",
          "InternetService_Fiber optic",
          "InternetService_No",
          "OnlineSecurity_Label",
          "OnlineBackup_Label",
          "DeviceProtection_Label",
          "TechSupport_Label",
          "StreamingTV_Label",
          "StreamingMovies_Label",
          "Contract_Month-to-month",
          "Contract_One year",
          "Contract_Two year",
          "PaperlessBilling_Label",
          "PaymentMethod_Bank transfer (automatic)",
          "PaymentMethod_Credit card (automatic)",
          "PaymentMethod_Electronic check",
          "PaymentMethod_Mailed check",
          "Churn_Label"
         ],
         "y": [
          "tenure",
          "MonthlyCharges",
          "TotalCharges",
          "gender_Label",
          "SeniorCitizen_Label",
          "Partner_Label",
          "Dependents_Label",
          "PhoneService_Label",
          "MultipleLines_Label",
          "InternetService_DSL",
          "InternetService_Fiber optic",
          "InternetService_No",
          "OnlineSecurity_Label",
          "OnlineBackup_Label",
          "DeviceProtection_Label",
          "TechSupport_Label",
          "StreamingTV_Label",
          "StreamingMovies_Label",
          "Contract_Month-to-month",
          "Contract_One year",
          "Contract_Two year",
          "PaperlessBilling_Label",
          "PaymentMethod_Bank transfer (automatic)",
          "PaymentMethod_Credit card (automatic)",
          "PaymentMethod_Electronic check",
          "PaymentMethod_Mailed check",
          "Churn_Label"
         ],
         "z": [
          [
           1,
           0.24789985628615183,
           0.8261783979502535,
           0.005106222619949674,
           0.016566877681808985,
           0.3796974611682755,
           0.15971233121691844,
           0.008448206732743343,
           0.33194055560918073,
           0.013274087649273581,
           0.01972036768675573,
           -0.03906198211043155,
           0.32720277316825247,
           0.36027698898466876,
           0.36065286693248516,
           0.3242207719993829,
           0.2797560822359026,
           0.2861105877784818,
           -0.6455614232660657,
           0.20257047544942658,
           0.5585326708194087,
           0.006152481598270628,
           0.24351044443849634,
           0.23300552501250182,
           -0.20836250343948295,
           -0.23385205012387747,
           -0.35222867011307624
          ],
          [
           0.24789985628615183,
           1,
           0.6511738315787834,
           -0.014569323728666622,
           0.22017333857626245,
           0.09684793625646866,
           -0.11389023002193653,
           0.24739796321411303,
           0.4904339694400002,
           -0.16018932620443563,
           0.7870655284726719,
           -0.7635565582866215,
           0.2965941920005669,
           0.4417800943594705,
           0.48269204827330414,
           0.3383042642201646,
           0.6296031609781177,
           0.6274288843898884,
           0.06016532712773668,
           0.0049038394150229475,
           -0.07468085092684532,
           0.3521499677959598,
           0.04281214055789888,
           0.03055035807230956,
           0.27162467108611776,
           -0.3774373156841081,
           0.19335642223784502
          ],
          [
           0.8261783979502535,
           0.6511738315787834,
           1,
           -8.030345627874816e-05,
           0.10300618407952185,
           0.31750401805286327,
           0.06207819481604465,
           0.11321354444457037,
           0.4685038161636414,
           -0.052468587998936694,
           0.36165543578004683,
           -0.37522284259453553,
           0.4116505266521849,
           0.5092260122231442,
           0.5219828797812056,
           0.43188277132751507,
           0.5149734780629677,
           0.5201217821008771,
           -0.44425490807683077,
           0.17081388562935948,
           0.35448077651087573,
           0.15857437033153188,
           0.18598693210410833,
           0.18291458126297283,
           -0.0592458883282833,
           -0.29575842313548534,
           -0.19832426260399383
          ],
          [
           0.005106222619949674,
           -0.014569323728666622,
           -8.030345627874816e-05,
           1,
           -0.0018737116382603585,
           -0.001808079661789092,
           0.010516611922734686,
           -0.006487672136207867,
           -0.00841365587151559,
           0.006567778691102118,
           -0.011286442720116788,
           0.006025751154069604,
           -0.017020796813958704,
           -0.01377318872900596,
           -0.0021045826513881854,
           -0.009211760356587549,
           -0.008392549998355633,
           -0.010487356300499686,
           -0.0033859456136262796,
           0.008025643075007296,
           -0.0036950508034764595,
           -0.011753691221221238,
           -0.016023595160041378,
           0.0012147794729686294,
           0.0007521807011949914,
           0.013744173305345336,
           -0.008612095078997463
          ],
          [
           0.016566877681808985,
           0.22017333857626245,
           0.10300618407952185,
           -0.0018737116382603585,
           1,
           0.016478657597413158,
           -0.21118508849394904,
           0.008576401079278321,
           0.14294817476275615,
           -0.10832221369857437,
           0.25533777295512944,
           -0.18274172290672117,
           -0.03865270449719614,
           0.06657213514513345,
           0.05942849428692483,
           -0.06062459069356379,
           0.1053776678428196,
           0.12017625118896011,
           0.13836046440262936,
           -0.046262442927024604,
           -0.11700001812505513,
           0.15652955931114873,
           -0.016158940862199146,
           -0.0241353723603211,
           0.17171777869091615,
           -0.15347749042895084,
           0.15088932817647296
          ],
          [
           0.3796974611682755,
           0.09684793625646866,
           0.31750401805286327,
           -0.001808079661789092,
           0.016478657597413158,
           1,
           0.4526762829294439,
           0.01770566322397003,
           0.14205707936226336,
           -0.0008509247739520219,
           0.00030366541646410116,
           0.0006151650863897412,
           0.14310622750263163,
           0.14149801947226973,
           0.15378643563076652,
           0.11999886976430937,
           0.1246658005648968,
           0.11741185447194351,
           -0.28086522610830583,
           0.08278330748147045,
           0.24809065453753587,
           -0.014876622287889343,
           0.11070636952476212,
           0.08202919645731585,
           -0.08385168936270106,
           -0.09512485882292497,
           -0.15044754495916807
          ],
          [
           0.15971233121691844,
           -0.11389023002193653,
           0.06207819481604465,
           0.010516611922734686,
           -0.21118508849394904,
           0.4526762829294439,
           1,
           -0.0017616785446833952,
           -0.024525804414101075,
           0.052010348064670545,
           -0.16581835875542186,
           0.13981188531169106,
           0.0809716602324878,
           0.023671013010513185,
           0.01396253565379059,
           0.06326814139964838,
           -0.016557742951036198,
           -0.039740962058925404,
           -0.23172016612971874,
           0.06836848043822162,
           0.20461344694775824,
           -0.11137722919362898,
           0.05202098094740329,
           0.06026700017637367,
           -0.15064248847911435,
           0.05907101281466968,
           -0.16422140157973802
          ],
          [
           0.008448206732743343,
           0.24739796321411303,
           0.11321354444457037,
           -0.006487672136207867,
           0.008576401079278321,
           0.01770566322397003,
           -0.0017616785446833952,
           1,
           0.27968999474292017,
           -0.452425489961283,
           0.2899989345730554,
           0.17220876982804517,
           -0.09289270011220115,
           -0.052312242947634764,
           -0.07122688671746603,
           -0.09633961826825559,
           -0.02257359179493519,
           -0.03295889236478296,
           -0.0007424302790417011,
           -0.002790643098633068,
           0.0035189075685092257,
           0.016504805732567716,
           0.00755621292514459,
           -0.007721160009098325,
           0.0030618298454302066,
           -0.0033187895436075847,
           0.011941980029002547
          ],
          [
           0.33194055560918073,
           0.4904339694400002,
           0.4685038161636414,
           -0.00841365587151559,
           0.14294817476275615,
           0.14205707936226336,
           -0.024525804414101075,
           0.27968999474292017,
           1,
           -0.1999202093533399,
           0.3660832496117892,
           -0.21056352377914278,
           0.09810813969724957,
           0.20223701632048843,
           0.20113653254496486,
           0.10057130998574261,
           0.25715163510819916,
           0.25875149199378983,
           -0.08820313233781159,
           -0.0037935880457823363,
           0.10625270251960395,
           0.16353017421289867,
           0.07552652675122472,
           0.06004835777743914,
           0.08361817831666819,
           -0.22720630042804055,
           0.04010212769982239
          ],
          [
           0.013274087649273581,
           -0.16018932620443563,
           -0.052468587998936694,
           0.006567778691102118,
           -0.10832221369857437,
           -0.0008509247739520219,
           0.052010348064670545,
           -0.452425489961283,
           -0.1999202093533399,
           1,
           -0.6409871702805158,
           -0.3806345434753767,
           0.3212689079448847,
           0.15788439397403897,
           0.1462906413147331,
           0.3131179268609463,
           0.01627372679457073,
           0.02569783199417058,
           -0.06550876072359825,
           0.04679527357238784,
           0.031714234510355516,
           -0.0631210849300296,
           0.025475536146245106,
           0.05143757263283329,
           -0.10441759819553018,
           0.041899281981820136,
           -0.12421382390258645
          ],
          [
           0.01972036768675573,
           0.7870655284726719,
           0.36165543578004683,
           -0.011286442720116788,
           0.25533777295512944,
           0.00030366541646410116,
           -0.16581835875542186,
           0.2899989345730554,
           0.3660832496117892,
           -0.6409871702805158,
           1,
           -0.4657927104460395,
           -0.03069571096235206,
           0.16565089083393386,
           0.17604889095153575,
           -0.020492402500577954,
           0.3293485259115254,
           0.32292269808483876,
           0.24416415597397462,
           -0.076324090894692,
           -0.21152603536969214,
           0.32685324851959013,
           -0.022624012243866037,
           -0.05007665545044517,
           0.3364097780255705,
           -0.30683412957623935,
           0.3080197449448075
          ],
          [
           -0.03906198211043155,
           -0.7635565582866215,
           -0.37522284259453553,
           0.006025751154069604,
           -0.18274172290672117,
           0.0006151650863897412,
           0.13981188531169106,
           0.17220876982804517,
           -0.21056352377914278,
           -0.3806345434753767,
           -0.4657927104460395,
           1,
           -0.333402704896457,
           -0.3815932968077265,
           -0.38075433795294245,
           -0.3362982846984971,
           -0.415551893880319,
           -0.4186750789702281,
           -0.21863876616156266,
           0.03800394241917166,
           0.21827822340961614,
           -0.3210130652332027,
           -0.0021133998738822233,
           0.0010297293228975783,
           -0.2849166458500381,
           0.32136073231782275,
           -0.22789044975610792
          ],
          [
           0.32720277316825247,
           0.2965941920005669,
           0.4116505266521849,
           -0.017020796813958704,
           -0.03865270449719614,
           0.14310622750263163,
           0.0809716602324878,
           -0.09289270011220115,
           0.09810813969724957,
           0.3212689079448847,
           -0.03069571096235206,
           -0.333402704896457,
           1,
           0.28383223353270814,
           0.2754379787437894,
           0.3549307078927568,
           0.17620730704239565,
           0.18739833092625272,
           -0.2466788676313635,
           0.10016245689105537,
           0.19177339915203528,
           -0.0036358971484736916,
           0.0951580427350095,
           0.11572065517555083,
           -0.11233777625406866,
           -0.08079805377721072,
           -0.17122629194853634
          ],
          [
           0.36027698898466876,
           0.4417800943594705,
           0.5092260122231442,
           -0.01377318872900596,
           0.06657213514513345,
           0.14149801947226973,
           0.023671013010513185,
           -0.052312242947634764,
           0.20223701632048843,
           0.15788439397403897,
           0.16565089083393386,
           -0.3815932968077265,
           0.28383223353270814,
           1,
           0.3035462090113026,
           0.2942328784069205,
           0.2821064219717299,
           0.274501201960493,
           -0.16417233309253518,
           0.08372237279772053,
           0.11139959504622358,
           0.12673537300695792,
           0.08700369093869247,
           0.0907847854525632,
           -0.0004077158725881331,
           -0.17416391693981773,
           -0.08225486893813826
          ],
          [
           0.36065286693248516,
           0.48269204827330414,
           0.5219828797812056,
           -0.0021045826513881854,
           0.05942849428692483,
           0.15378643563076652,
           0.01396253565379059,
           -0.07122688671746603,
           0.20113653254496486,
           0.1462906413147331,
           0.17604889095153575,
           -0.38075433795294245,
           0.2754379787437894,
           0.3035462090113026,
           1,
           0.3333125623154421,
           0.3908740269195431,
           0.40211053776620614,
           -0.2256620025394026,
           0.10249519931671455,
           0.16509639131424095,
           0.10379680498154323,
           0.08311454613207714,
           0.11155436356101248,
           -0.003350773408872253,
           -0.18737348746355928,
           -0.06615979128028415
          ],
          [
           0.3242207719993829,
           0.3383042642201646,
           0.43188277132751507,
           -0.009211760356587549,
           -0.06062459069356379,
           0.11999886976430937,
           0.06326814139964838,
           -0.09633961826825559,
           0.10057130998574261,
           0.3131179268609463,
           -0.020492402500577954,
           -0.3362982846984971,
           0.3549307078927568,
           0.2942328784069205,
           0.3333125623154421,
           1,
           0.27807020363722595,
           0.27935847892844207,
           -0.285241310295581,
           0.09577473766009809,
           0.2408235565292133,
           0.03787990020728005,
           0.10125246802181254,
           0.11727230654466908,
           -0.11483871499570059,
           -0.08550850677032465,
           -0.16467355590159904
          ],
          [
           0.2797560822359026,
           0.6296031609781177,
           0.5149734780629677,
           -0.008392549998355633,
           0.1053776678428196,
           0.1246658005648968,
           -0.016557742951036198,
           -0.02257359179493519,
           0.25715163510819916,
           0.01627372679457073,
           0.3293485259115254,
           -0.415551893880319,
           0.17620730704239565,
           0.2821064219717299,
           0.3908740269195431,
           0.27807020363722595,
           1,
           0.5330938326942409,
           -0.11228242714591914,
           0.06161243382925978,
           0.0720490410206093,
           0.22384098246008893,
           0.04625225164274569,
           0.040433080354261755,
           0.14462638547452714,
           -0.24774242360739093,
           0.06322774611875473
          ],
          [
           0.2861105877784818,
           0.6274288843898884,
           0.5201217821008771,
           -0.010487356300499686,
           0.12017625118896011,
           0.11741185447194351,
           -0.039740962058925404,
           -0.03295889236478296,
           0.25875149199378983,
           0.02569783199417058,
           0.32292269808483876,
           -0.4186750789702281,
           0.18739833092625272,
           0.274501201960493,
           0.40211053776620614,
           0.27935847892844207,
           0.5330938326942409,
           1,
           -0.11663335681857676,
           0.06492603542902547,
           0.0739598441369921,
           0.21171599176513312,
           0.04865217505038656,
           0.04857480053298277,
           0.13796637540689907,
           -0.25059546380835057,
           0.06138154801518815
          ],
          [
           -0.6455614232660657,
           0.06016532712773668,
           -0.44425490807683077,
           -0.0033859456136262796,
           0.13836046440262936,
           -0.28086522610830583,
           -0.23172016612971874,
           -0.0007424302790417011,
           -0.08820313233781159,
           -0.06550876072359825,
           0.24416415597397462,
           -0.21863876616156266,
           -0.2466788676313635,
           -0.16417233309253518,
           -0.2256620025394026,
           -0.285241310295581,
           -0.11228242714591914,
           -0.11663335681857676,
           1,
           -0.5687442811987107,
           -0.6226334072449183,
           0.16909644687220246,
           -0.1797068873575995,
           -0.2041449607569331,
           0.3316614848172629,
           0.004138055475923,
           0.40510291068797993
          ],
          [
           0.20257047544942658,
           0.0049038394150229475,
           0.17081388562935948,
           0.008025643075007296,
           -0.046262442927024604,
           0.08278330748147045,
           0.06836848043822162,
           -0.002790643098633068,
           -0.0037935880457823363,
           0.04679527357238784,
           -0.076324090894692,
           0.03800394241917166,
           0.10016245689105537,
           0.08372237279772053,
           0.10249519931671455,
           0.09577473766009809,
           0.06161243382925978,
           0.06492603542902547,
           -0.5687442811987107,
           1,
           -0.2895095723414823,
           -0.051391159173448574,
           0.05745066212990877,
           0.06758941420686729,
           -0.10912981441493343,
           -0.00011622106193560245,
           -0.17782001834992608
          ],
          [
           0.5585326708194087,
           -0.07468085092684532,
           0.35448077651087573,
           -0.0036950508034764595,
           -0.11700001812505513,
           0.24809065453753587,
           0.20461344694775824,
           0.0035189075685092257,
           0.10625270251960395,
           0.031714234510355516,
           -0.21152603536969214,
           0.21827822340961614,
           0.19177339915203528,
           0.11139959504622358,
           0.16509639131424095,
           0.2408235565292133,
           0.0720490410206093,
           0.0739598441369921,
           -0.6226334072449183,
           -0.2895095723414823,
           1,
           -0.14788875031014193,
           0.15447149916965344,
           0.1732648524269204,
           -0.2821379770975611,
           -0.004704962197151649,
           -0.3022534693496566
          ],
          [
           0.006152481598270628,
           0.3521499677959598,
           0.15857437033153188,
           -0.011753691221221238,
           0.15652955931114873,
           -0.014876622287889343,
           -0.11137722919362898,
           0.016504805732567716,
           0.16353017421289867,
           -0.0631210849300296,
           0.32685324851959013,
           -0.3210130652332027,
           -0.0036358971484736916,
           0.12673537300695792,
           0.10379680498154323,
           0.03787990020728005,
           0.22384098246008893,
           0.21171599176513312,
           0.16909644687220246,
           -0.051391159173448574,
           -0.14788875031014193,
           1,
           -0.016332203527892688,
           -0.013588829059283302,
           0.20886475546714192,
           -0.2053980051888406,
           0.19182533166644541
          ],
          [
           0.24351044443849634,
           0.04281214055789888,
           0.18598693210410833,
           -0.016023595160041378,
           -0.016158940862199146,
           0.11070636952476212,
           0.05202098094740329,
           0.00755621292514459,
           0.07552652675122472,
           0.025475536146245106,
           -0.022624012243866037,
           -0.0021133998738822233,
           0.0951580427350095,
           0.08700369093869247,
           0.08311454613207714,
           0.10125246802181254,
           0.04625225164274569,
           0.04865217505038656,
           -0.1797068873575995,
           0.05745066212990877,
           0.15447149916965344,
           -0.016332203527892688,
           1,
           -0.2782148074777716,
           -0.3767621373493346,
           -0.28868512421141257,
           -0.11793667192853156
          ],
          [
           0.23300552501250182,
           0.03055035807230956,
           0.18291458126297283,
           0.0012147794729686294,
           -0.0241353723603211,
           0.08202919645731585,
           0.06026700017637367,
           -0.007721160009098325,
           0.06004835777743914,
           0.05143757263283329,
           -0.05007665545044517,
           0.0010297293228975783,
           0.11572065517555083,
           0.0907847854525632,
           0.11155436356101248,
           0.11727230654466908,
           0.040433080354261755,
           0.04857480053298277,
           -0.2041449607569331,
           0.06758941420686729,
           0.1732648524269204,
           -0.013588829059283302,
           -0.2782148074777716,
           1,
           -0.3733222859365921,
           -0.28604941899078157,
           -0.13430175066263256
          ],
          [
           -0.20836250343948295,
           0.27162467108611776,
           -0.0592458883282833,
           0.0007521807011949914,
           0.17171777869091615,
           -0.08385168936270106,
           -0.15064248847911435,
           0.0030618298454302066,
           0.08361817831666819,
           -0.10441759819553018,
           0.3364097780255705,
           -0.2849166458500381,
           -0.11233777625406866,
           -0.0004077158725881331,
           -0.003350773408872253,
           -0.11483871499570059,
           0.14462638547452714,
           0.13796637540689907,
           0.3316614848172629,
           -0.10912981441493343,
           -0.2821379770975611,
           0.20886475546714192,
           -0.3767621373493346,
           -0.3733222859365921,
           1,
           -0.3873718709062573,
           0.301918749011285
          ],
          [
           -0.23385205012387747,
           -0.3774373156841081,
           -0.29575842313548534,
           0.013744173305345336,
           -0.15347749042895084,
           -0.09512485882292497,
           0.05907101281466968,
           -0.0033187895436075847,
           -0.22720630042804055,
           0.041899281981820136,
           -0.30683412957623935,
           0.32136073231782275,
           -0.08079805377721072,
           -0.17416391693981773,
           -0.18737348746355928,
           -0.08550850677032465,
           -0.24774242360739093,
           -0.25059546380835057,
           0.004138055475923,
           -0.00011622106193560245,
           -0.004704962197151649,
           -0.2053980051888406,
           -0.28868512421141257,
           -0.28604941899078157,
           -0.3873718709062573,
           1,
           -0.09168283858843226
          ],
          [
           -0.35222867011307624,
           0.19335642223784502,
           -0.19832426260399383,
           -0.008612095078997463,
           0.15088932817647296,
           -0.15044754495916807,
           -0.16422140157973802,
           0.011941980029002547,
           0.04010212769982239,
           -0.12421382390258645,
           0.3080197449448075,
           -0.22789044975610792,
           -0.17122629194853634,
           -0.08225486893813826,
           -0.06615979128028415,
           -0.16467355590159904,
           0.06322774611875473,
           0.06138154801518815,
           0.40510291068797993,
           -0.17782001834992608,
           -0.3022534693496566,
           0.19182533166644541,
           -0.11793667192853156,
           -0.13430175066263256,
           0.301918749011285,
           -0.09168283858843226,
           1
          ]
         ]
        }
       ],
       "layout": {
        "autosize": false,
        "height": 720,
        "margin": {
         "b": 210,
         "l": 210,
         "r": 0,
         "t": 25
        },
        "template": {
         "data": {
          "bar": [
           {
            "error_x": {
             "color": "#2a3f5f"
            },
            "error_y": {
             "color": "#2a3f5f"
            },
            "marker": {
             "line": {
              "color": "#E5ECF6",
              "width": 0.5
             }
            },
            "type": "bar"
           }
          ],
          "barpolar": [
           {
            "marker": {
             "line": {
              "color": "#E5ECF6",
              "width": 0.5
             }
            },
            "type": "barpolar"
           }
          ],
          "carpet": [
           {
            "aaxis": {
             "endlinecolor": "#2a3f5f",
             "gridcolor": "white",
             "linecolor": "white",
             "minorgridcolor": "white",
             "startlinecolor": "#2a3f5f"
            },
            "baxis": {
             "endlinecolor": "#2a3f5f",
             "gridcolor": "white",
             "linecolor": "white",
             "minorgridcolor": "white",
             "startlinecolor": "#2a3f5f"
            },
            "type": "carpet"
           }
          ],
          "choropleth": [
           {
            "colorbar": {
             "outlinewidth": 0,
             "ticks": ""
            },
            "type": "choropleth"
           }
          ],
          "contour": [
           {
            "colorbar": {
             "outlinewidth": 0,
             "ticks": ""
            },
            "colorscale": [
             [
              0,
              "#0d0887"
             ],
             [
              0.1111111111111111,
              "#46039f"
             ],
             [
              0.2222222222222222,
              "#7201a8"
             ],
             [
              0.3333333333333333,
              "#9c179e"
             ],
             [
              0.4444444444444444,
              "#bd3786"
             ],
             [
              0.5555555555555556,
              "#d8576b"
             ],
             [
              0.6666666666666666,
              "#ed7953"
             ],
             [
              0.7777777777777778,
              "#fb9f3a"
             ],
             [
              0.8888888888888888,
              "#fdca26"
             ],
             [
              1,
              "#f0f921"
             ]
            ],
            "type": "contour"
           }
          ],
          "contourcarpet": [
           {
            "colorbar": {
             "outlinewidth": 0,
             "ticks": ""
            },
            "type": "contourcarpet"
           }
          ],
          "heatmap": [
           {
            "colorbar": {
             "outlinewidth": 0,
             "ticks": ""
            },
            "colorscale": [
             [
              0,
              "#0d0887"
             ],
             [
              0.1111111111111111,
              "#46039f"
             ],
             [
              0.2222222222222222,
              "#7201a8"
             ],
             [
              0.3333333333333333,
              "#9c179e"
             ],
             [
              0.4444444444444444,
              "#bd3786"
             ],
             [
              0.5555555555555556,
              "#d8576b"
             ],
             [
              0.6666666666666666,
              "#ed7953"
             ],
             [
              0.7777777777777778,
              "#fb9f3a"
             ],
             [
              0.8888888888888888,
              "#fdca26"
             ],
             [
              1,
              "#f0f921"
             ]
            ],
            "type": "heatmap"
           }
          ],
          "heatmapgl": [
           {
            "colorbar": {
             "outlinewidth": 0,
             "ticks": ""
            },
            "colorscale": [
             [
              0,
              "#0d0887"
             ],
             [
              0.1111111111111111,
              "#46039f"
             ],
             [
              0.2222222222222222,
              "#7201a8"
             ],
             [
              0.3333333333333333,
              "#9c179e"
             ],
             [
              0.4444444444444444,
              "#bd3786"
             ],
             [
              0.5555555555555556,
              "#d8576b"
             ],
             [
              0.6666666666666666,
              "#ed7953"
             ],
             [
              0.7777777777777778,
              "#fb9f3a"
             ],
             [
              0.8888888888888888,
              "#fdca26"
             ],
             [
              1,
              "#f0f921"
             ]
            ],
            "type": "heatmapgl"
           }
          ],
          "histogram": [
           {
            "marker": {
             "colorbar": {
              "outlinewidth": 0,
              "ticks": ""
             }
            },
            "type": "histogram"
           }
          ],
          "histogram2d": [
           {
            "colorbar": {
             "outlinewidth": 0,
             "ticks": ""
            },
            "colorscale": [
             [
              0,
              "#0d0887"
             ],
             [
              0.1111111111111111,
              "#46039f"
             ],
             [
              0.2222222222222222,
              "#7201a8"
             ],
             [
              0.3333333333333333,
              "#9c179e"
             ],
             [
              0.4444444444444444,
              "#bd3786"
             ],
             [
              0.5555555555555556,
              "#d8576b"
             ],
             [
              0.6666666666666666,
              "#ed7953"
             ],
             [
              0.7777777777777778,
              "#fb9f3a"
             ],
             [
              0.8888888888888888,
              "#fdca26"
             ],
             [
              1,
              "#f0f921"
             ]
            ],
            "type": "histogram2d"
           }
          ],
          "histogram2dcontour": [
           {
            "colorbar": {
             "outlinewidth": 0,
             "ticks": ""
            },
            "colorscale": [
             [
              0,
              "#0d0887"
             ],
             [
              0.1111111111111111,
              "#46039f"
             ],
             [
              0.2222222222222222,
              "#7201a8"
             ],
             [
              0.3333333333333333,
              "#9c179e"
             ],
             [
              0.4444444444444444,
              "#bd3786"
             ],
             [
              0.5555555555555556,
              "#d8576b"
             ],
             [
              0.6666666666666666,
              "#ed7953"
             ],
             [
              0.7777777777777778,
              "#fb9f3a"
             ],
             [
              0.8888888888888888,
              "#fdca26"
             ],
             [
              1,
              "#f0f921"
             ]
            ],
            "type": "histogram2dcontour"
           }
          ],
          "mesh3d": [
           {
            "colorbar": {
             "outlinewidth": 0,
             "ticks": ""
            },
            "type": "mesh3d"
           }
          ],
          "parcoords": [
           {
            "line": {
             "colorbar": {
              "outlinewidth": 0,
              "ticks": ""
             }
            },
            "type": "parcoords"
           }
          ],
          "pie": [
           {
            "automargin": true,
            "type": "pie"
           }
          ],
          "scatter": [
           {
            "marker": {
             "colorbar": {
              "outlinewidth": 0,
              "ticks": ""
             }
            },
            "type": "scatter"
           }
          ],
          "scatter3d": [
           {
            "line": {
             "colorbar": {
              "outlinewidth": 0,
              "ticks": ""
             }
            },
            "marker": {
             "colorbar": {
              "outlinewidth": 0,
              "ticks": ""
             }
            },
            "type": "scatter3d"
           }
          ],
          "scattercarpet": [
           {
            "marker": {
             "colorbar": {
              "outlinewidth": 0,
              "ticks": ""
             }
            },
            "type": "scattercarpet"
           }
          ],
          "scattergeo": [
           {
            "marker": {
             "colorbar": {
              "outlinewidth": 0,
              "ticks": ""
             }
            },
            "type": "scattergeo"
           }
          ],
          "scattergl": [
           {
            "marker": {
             "colorbar": {
              "outlinewidth": 0,
              "ticks": ""
             }
            },
            "type": "scattergl"
           }
          ],
          "scattermapbox": [
           {
            "marker": {
             "colorbar": {
              "outlinewidth": 0,
              "ticks": ""
             }
            },
            "type": "scattermapbox"
           }
          ],
          "scatterpolar": [
           {
            "marker": {
             "colorbar": {
              "outlinewidth": 0,
              "ticks": ""
             }
            },
            "type": "scatterpolar"
           }
          ],
          "scatterpolargl": [
           {
            "marker": {
             "colorbar": {
              "outlinewidth": 0,
              "ticks": ""
             }
            },
            "type": "scatterpolargl"
           }
          ],
          "scatterternary": [
           {
            "marker": {
             "colorbar": {
              "outlinewidth": 0,
              "ticks": ""
             }
            },
            "type": "scatterternary"
           }
          ],
          "surface": [
           {
            "colorbar": {
             "outlinewidth": 0,
             "ticks": ""
            },
            "colorscale": [
             [
              0,
              "#0d0887"
             ],
             [
              0.1111111111111111,
              "#46039f"
             ],
             [
              0.2222222222222222,
              "#7201a8"
             ],
             [
              0.3333333333333333,
              "#9c179e"
             ],
             [
              0.4444444444444444,
              "#bd3786"
             ],
             [
              0.5555555555555556,
              "#d8576b"
             ],
             [
              0.6666666666666666,
              "#ed7953"
             ],
             [
              0.7777777777777778,
              "#fb9f3a"
             ],
             [
              0.8888888888888888,
              "#fdca26"
             ],
             [
              1,
              "#f0f921"
             ]
            ],
            "type": "surface"
           }
          ],
          "table": [
           {
            "cells": {
             "fill": {
              "color": "#EBF0F8"
             },
             "line": {
              "color": "white"
             }
            },
            "header": {
             "fill": {
              "color": "#C8D4E3"
             },
             "line": {
              "color": "white"
             }
            },
            "type": "table"
           }
          ]
         },
         "layout": {
          "annotationdefaults": {
           "arrowcolor": "#2a3f5f",
           "arrowhead": 0,
           "arrowwidth": 1
          },
          "coloraxis": {
           "colorbar": {
            "outlinewidth": 0,
            "ticks": ""
           }
          },
          "colorscale": {
           "diverging": [
            [
             0,
             "#8e0152"
            ],
            [
             0.1,
             "#c51b7d"
            ],
            [
             0.2,
             "#de77ae"
            ],
            [
             0.3,
             "#f1b6da"
            ],
            [
             0.4,
             "#fde0ef"
            ],
            [
             0.5,
             "#f7f7f7"
            ],
            [
             0.6,
             "#e6f5d0"
            ],
            [
             0.7,
             "#b8e186"
            ],
            [
             0.8,
             "#7fbc41"
            ],
            [
             0.9,
             "#4d9221"
            ],
            [
             1,
             "#276419"
            ]
           ],
           "sequential": [
            [
             0,
             "#0d0887"
            ],
            [
             0.1111111111111111,
             "#46039f"
            ],
            [
             0.2222222222222222,
             "#7201a8"
            ],
            [
             0.3333333333333333,
             "#9c179e"
            ],
            [
             0.4444444444444444,
             "#bd3786"
            ],
            [
             0.5555555555555556,
             "#d8576b"
            ],
            [
             0.6666666666666666,
             "#ed7953"
            ],
            [
             0.7777777777777778,
             "#fb9f3a"
            ],
            [
             0.8888888888888888,
             "#fdca26"
            ],
            [
             1,
             "#f0f921"
            ]
           ],
           "sequentialminus": [
            [
             0,
             "#0d0887"
            ],
            [
             0.1111111111111111,
             "#46039f"
            ],
            [
             0.2222222222222222,
             "#7201a8"
            ],
            [
             0.3333333333333333,
             "#9c179e"
            ],
            [
             0.4444444444444444,
             "#bd3786"
            ],
            [
             0.5555555555555556,
             "#d8576b"
            ],
            [
             0.6666666666666666,
             "#ed7953"
            ],
            [
             0.7777777777777778,
             "#fb9f3a"
            ],
            [
             0.8888888888888888,
             "#fdca26"
            ],
            [
             1,
             "#f0f921"
            ]
           ]
          },
          "colorway": [
           "#636efa",
           "#EF553B",
           "#00cc96",
           "#ab63fa",
           "#FFA15A",
           "#19d3f3",
           "#FF6692",
           "#B6E880",
           "#FF97FF",
           "#FECB52"
          ],
          "font": {
           "color": "#2a3f5f"
          },
          "geo": {
           "bgcolor": "white",
           "lakecolor": "white",
           "landcolor": "#E5ECF6",
           "showlakes": true,
           "showland": true,
           "subunitcolor": "white"
          },
          "hoverlabel": {
           "align": "left"
          },
          "hovermode": "closest",
          "mapbox": {
           "style": "light"
          },
          "paper_bgcolor": "white",
          "plot_bgcolor": "#E5ECF6",
          "polar": {
           "angularaxis": {
            "gridcolor": "white",
            "linecolor": "white",
            "ticks": ""
           },
           "bgcolor": "#E5ECF6",
           "radialaxis": {
            "gridcolor": "white",
            "linecolor": "white",
            "ticks": ""
           }
          },
          "scene": {
           "xaxis": {
            "backgroundcolor": "#E5ECF6",
            "gridcolor": "white",
            "gridwidth": 2,
            "linecolor": "white",
            "showbackground": true,
            "ticks": "",
            "zerolinecolor": "white"
           },
           "yaxis": {
            "backgroundcolor": "#E5ECF6",
            "gridcolor": "white",
            "gridwidth": 2,
            "linecolor": "white",
            "showbackground": true,
            "ticks": "",
            "zerolinecolor": "white"
           },
           "zaxis": {
            "backgroundcolor": "#E5ECF6",
            "gridcolor": "white",
            "gridwidth": 2,
            "linecolor": "white",
            "showbackground": true,
            "ticks": "",
            "zerolinecolor": "white"
           }
          },
          "shapedefaults": {
           "line": {
            "color": "#2a3f5f"
           }
          },
          "ternary": {
           "aaxis": {
            "gridcolor": "white",
            "linecolor": "white",
            "ticks": ""
           },
           "baxis": {
            "gridcolor": "white",
            "linecolor": "white",
            "ticks": ""
           },
           "bgcolor": "#E5ECF6",
           "caxis": {
            "gridcolor": "white",
            "linecolor": "white",
            "ticks": ""
           }
          },
          "title": {
           "x": 0.05
          },
          "xaxis": {
           "automargin": true,
           "gridcolor": "white",
           "linecolor": "white",
           "ticks": "",
           "title": {
            "standoff": 15
           },
           "zerolinecolor": "white",
           "zerolinewidth": 2
          },
          "yaxis": {
           "automargin": true,
           "gridcolor": "white",
           "linecolor": "white",
           "ticks": "",
           "title": {
            "standoff": 15
           },
           "zerolinecolor": "white",
           "zerolinewidth": 2
          }
         }
        },
        "title": {
         "text": "Correlation Matrix for variables"
        },
        "width": 800,
        "xaxis": {
         "tickfont": {
          "size": 9
         }
        },
        "yaxis": {
         "tickfont": {
          "size": 9
         }
        }
       }
      },
      "text/html": [
       "<div>\n",
       "        \n",
       "        \n",
       "            <div id=\"e9555385-3049-4214-bc54-2d08e23b1d1d\" class=\"plotly-graph-div\" style=\"height:720px; width:800px;\"></div>\n",
       "            <script type=\"text/javascript\">\n",
       "                require([\"plotly\"], function(Plotly) {\n",
       "                    window.PLOTLYENV=window.PLOTLYENV || {};\n",
       "                    \n",
       "                if (document.getElementById(\"e9555385-3049-4214-bc54-2d08e23b1d1d\")) {\n",
       "                    Plotly.newPlot(\n",
       "                        'e9555385-3049-4214-bc54-2d08e23b1d1d',\n",
       "                        [{\"colorbar\": {\"title\": {\"side\": \"right\", \"text\": \"Pearson Correlation coefficient\"}}, \"colorscale\": [[0.0, \"#440154\"], [0.1111111111111111, \"#482878\"], [0.2222222222222222, \"#3e4989\"], [0.3333333333333333, \"#31688e\"], [0.4444444444444444, \"#26828e\"], [0.5555555555555556, \"#1f9e89\"], [0.6666666666666666, \"#35b779\"], [0.7777777777777778, \"#6ece58\"], [0.8888888888888888, \"#b5de2b\"], [1.0, \"#fde725\"]], \"type\": \"heatmap\", \"x\": [\"tenure\", \"MonthlyCharges\", \"TotalCharges\", \"gender_Label\", \"SeniorCitizen_Label\", \"Partner_Label\", \"Dependents_Label\", \"PhoneService_Label\", \"MultipleLines_Label\", \"InternetService_DSL\", \"InternetService_Fiber optic\", \"InternetService_No\", \"OnlineSecurity_Label\", \"OnlineBackup_Label\", \"DeviceProtection_Label\", \"TechSupport_Label\", \"StreamingTV_Label\", \"StreamingMovies_Label\", \"Contract_Month-to-month\", \"Contract_One year\", \"Contract_Two year\", \"PaperlessBilling_Label\", \"PaymentMethod_Bank transfer (automatic)\", \"PaymentMethod_Credit card (automatic)\", \"PaymentMethod_Electronic check\", \"PaymentMethod_Mailed check\", \"Churn_Label\"], \"y\": [\"tenure\", \"MonthlyCharges\", \"TotalCharges\", \"gender_Label\", \"SeniorCitizen_Label\", \"Partner_Label\", \"Dependents_Label\", \"PhoneService_Label\", \"MultipleLines_Label\", \"InternetService_DSL\", \"InternetService_Fiber optic\", \"InternetService_No\", \"OnlineSecurity_Label\", \"OnlineBackup_Label\", \"DeviceProtection_Label\", \"TechSupport_Label\", \"StreamingTV_Label\", \"StreamingMovies_Label\", \"Contract_Month-to-month\", \"Contract_One year\", \"Contract_Two year\", \"PaperlessBilling_Label\", \"PaymentMethod_Bank transfer (automatic)\", \"PaymentMethod_Credit card (automatic)\", \"PaymentMethod_Electronic check\", \"PaymentMethod_Mailed check\", \"Churn_Label\"], \"z\": [[1.0, 0.24789985628615183, 0.8261783979502535, 0.005106222619949674, 0.016566877681808985, 0.3796974611682755, 0.15971233121691844, 0.008448206732743343, 0.33194055560918073, 0.013274087649273581, 0.01972036768675573, -0.03906198211043155, 0.32720277316825247, 0.36027698898466876, 0.36065286693248516, 0.3242207719993829, 0.2797560822359026, 0.2861105877784818, -0.6455614232660657, 0.20257047544942658, 0.5585326708194087, 0.006152481598270628, 0.24351044443849634, 0.23300552501250182, -0.20836250343948295, -0.23385205012387747, -0.35222867011307624], [0.24789985628615183, 1.0, 0.6511738315787834, -0.014569323728666622, 0.22017333857626245, 0.09684793625646866, -0.11389023002193653, 0.24739796321411303, 0.4904339694400002, -0.16018932620443563, 0.7870655284726719, -0.7635565582866215, 0.2965941920005669, 0.4417800943594705, 0.48269204827330414, 0.3383042642201646, 0.6296031609781177, 0.6274288843898884, 0.06016532712773668, 0.0049038394150229475, -0.07468085092684532, 0.3521499677959598, 0.04281214055789888, 0.03055035807230956, 0.27162467108611776, -0.3774373156841081, 0.19335642223784502], [0.8261783979502535, 0.6511738315787834, 1.0, -8.030345627874816e-05, 0.10300618407952185, 0.31750401805286327, 0.06207819481604465, 0.11321354444457037, 0.4685038161636414, -0.052468587998936694, 0.36165543578004683, -0.37522284259453553, 0.4116505266521849, 0.5092260122231442, 0.5219828797812056, 0.43188277132751507, 0.5149734780629677, 0.5201217821008771, -0.44425490807683077, 0.17081388562935948, 0.35448077651087573, 0.15857437033153188, 0.18598693210410833, 0.18291458126297283, -0.0592458883282833, -0.29575842313548534, -0.19832426260399383], [0.005106222619949674, -0.014569323728666622, -8.030345627874816e-05, 1.0, -0.0018737116382603585, -0.001808079661789092, 0.010516611922734686, -0.006487672136207867, -0.00841365587151559, 0.006567778691102118, -0.011286442720116788, 0.006025751154069604, -0.017020796813958704, -0.01377318872900596, -0.0021045826513881854, -0.009211760356587549, -0.008392549998355633, -0.010487356300499686, -0.0033859456136262796, 0.008025643075007296, -0.0036950508034764595, -0.011753691221221238, -0.016023595160041378, 0.0012147794729686294, 0.0007521807011949914, 0.013744173305345336, -0.008612095078997463], [0.016566877681808985, 0.22017333857626245, 0.10300618407952185, -0.0018737116382603585, 1.0, 0.016478657597413158, -0.21118508849394904, 0.008576401079278321, 0.14294817476275615, -0.10832221369857437, 0.25533777295512944, -0.18274172290672117, -0.03865270449719614, 0.06657213514513345, 0.05942849428692483, -0.06062459069356379, 0.1053776678428196, 0.12017625118896011, 0.13836046440262936, -0.046262442927024604, -0.11700001812505513, 0.15652955931114873, -0.016158940862199146, -0.0241353723603211, 0.17171777869091615, -0.15347749042895084, 0.15088932817647296], [0.3796974611682755, 0.09684793625646866, 0.31750401805286327, -0.001808079661789092, 0.016478657597413158, 1.0, 0.4526762829294439, 0.01770566322397003, 0.14205707936226336, -0.0008509247739520219, 0.00030366541646410116, 0.0006151650863897412, 0.14310622750263163, 0.14149801947226973, 0.15378643563076652, 0.11999886976430937, 0.1246658005648968, 0.11741185447194351, -0.28086522610830583, 0.08278330748147045, 0.24809065453753587, -0.014876622287889343, 0.11070636952476212, 0.08202919645731585, -0.08385168936270106, -0.09512485882292497, -0.15044754495916807], [0.15971233121691844, -0.11389023002193653, 0.06207819481604465, 0.010516611922734686, -0.21118508849394904, 0.4526762829294439, 1.0, -0.0017616785446833952, -0.024525804414101075, 0.052010348064670545, -0.16581835875542186, 0.13981188531169106, 0.0809716602324878, 0.023671013010513185, 0.01396253565379059, 0.06326814139964838, -0.016557742951036198, -0.039740962058925404, -0.23172016612971874, 0.06836848043822162, 0.20461344694775824, -0.11137722919362898, 0.05202098094740329, 0.06026700017637367, -0.15064248847911435, 0.05907101281466968, -0.16422140157973802], [0.008448206732743343, 0.24739796321411303, 0.11321354444457037, -0.006487672136207867, 0.008576401079278321, 0.01770566322397003, -0.0017616785446833952, 1.0, 0.27968999474292017, -0.452425489961283, 0.2899989345730554, 0.17220876982804517, -0.09289270011220115, -0.052312242947634764, -0.07122688671746603, -0.09633961826825559, -0.02257359179493519, -0.03295889236478296, -0.0007424302790417011, -0.002790643098633068, 0.0035189075685092257, 0.016504805732567716, 0.00755621292514459, -0.007721160009098325, 0.0030618298454302066, -0.0033187895436075847, 0.011941980029002547], [0.33194055560918073, 0.4904339694400002, 0.4685038161636414, -0.00841365587151559, 0.14294817476275615, 0.14205707936226336, -0.024525804414101075, 0.27968999474292017, 1.0, -0.1999202093533399, 0.3660832496117892, -0.21056352377914278, 0.09810813969724957, 0.20223701632048843, 0.20113653254496486, 0.10057130998574261, 0.25715163510819916, 0.25875149199378983, -0.08820313233781159, -0.0037935880457823363, 0.10625270251960395, 0.16353017421289867, 0.07552652675122472, 0.06004835777743914, 0.08361817831666819, -0.22720630042804055, 0.04010212769982239], [0.013274087649273581, -0.16018932620443563, -0.052468587998936694, 0.006567778691102118, -0.10832221369857437, -0.0008509247739520219, 0.052010348064670545, -0.452425489961283, -0.1999202093533399, 1.0, -0.6409871702805158, -0.3806345434753767, 0.3212689079448847, 0.15788439397403897, 0.1462906413147331, 0.3131179268609463, 0.01627372679457073, 0.02569783199417058, -0.06550876072359825, 0.04679527357238784, 0.031714234510355516, -0.0631210849300296, 0.025475536146245106, 0.05143757263283329, -0.10441759819553018, 0.041899281981820136, -0.12421382390258645], [0.01972036768675573, 0.7870655284726719, 0.36165543578004683, -0.011286442720116788, 0.25533777295512944, 0.00030366541646410116, -0.16581835875542186, 0.2899989345730554, 0.3660832496117892, -0.6409871702805158, 1.0, -0.4657927104460395, -0.03069571096235206, 0.16565089083393386, 0.17604889095153575, -0.020492402500577954, 0.3293485259115254, 0.32292269808483876, 0.24416415597397462, -0.076324090894692, -0.21152603536969214, 0.32685324851959013, -0.022624012243866037, -0.05007665545044517, 0.3364097780255705, -0.30683412957623935, 0.3080197449448075], [-0.03906198211043155, -0.7635565582866215, -0.37522284259453553, 0.006025751154069604, -0.18274172290672117, 0.0006151650863897412, 0.13981188531169106, 0.17220876982804517, -0.21056352377914278, -0.3806345434753767, -0.4657927104460395, 1.0, -0.333402704896457, -0.3815932968077265, -0.38075433795294245, -0.3362982846984971, -0.415551893880319, -0.4186750789702281, -0.21863876616156266, 0.03800394241917166, 0.21827822340961614, -0.3210130652332027, -0.0021133998738822233, 0.0010297293228975783, -0.2849166458500381, 0.32136073231782275, -0.22789044975610792], [0.32720277316825247, 0.2965941920005669, 0.4116505266521849, -0.017020796813958704, -0.03865270449719614, 0.14310622750263163, 0.0809716602324878, -0.09289270011220115, 0.09810813969724957, 0.3212689079448847, -0.03069571096235206, -0.333402704896457, 1.0, 0.28383223353270814, 0.2754379787437894, 0.3549307078927568, 0.17620730704239565, 0.18739833092625272, -0.2466788676313635, 0.10016245689105537, 0.19177339915203528, -0.0036358971484736916, 0.0951580427350095, 0.11572065517555083, -0.11233777625406866, -0.08079805377721072, -0.17122629194853634], [0.36027698898466876, 0.4417800943594705, 0.5092260122231442, -0.01377318872900596, 0.06657213514513345, 0.14149801947226973, 0.023671013010513185, -0.052312242947634764, 0.20223701632048843, 0.15788439397403897, 0.16565089083393386, -0.3815932968077265, 0.28383223353270814, 1.0, 0.3035462090113026, 0.2942328784069205, 0.2821064219717299, 0.274501201960493, -0.16417233309253518, 0.08372237279772053, 0.11139959504622358, 0.12673537300695792, 0.08700369093869247, 0.0907847854525632, -0.0004077158725881331, -0.17416391693981773, -0.08225486893813826], [0.36065286693248516, 0.48269204827330414, 0.5219828797812056, -0.0021045826513881854, 0.05942849428692483, 0.15378643563076652, 0.01396253565379059, -0.07122688671746603, 0.20113653254496486, 0.1462906413147331, 0.17604889095153575, -0.38075433795294245, 0.2754379787437894, 0.3035462090113026, 1.0, 0.3333125623154421, 0.3908740269195431, 0.40211053776620614, -0.2256620025394026, 0.10249519931671455, 0.16509639131424095, 0.10379680498154323, 0.08311454613207714, 0.11155436356101248, -0.003350773408872253, -0.18737348746355928, -0.06615979128028415], [0.3242207719993829, 0.3383042642201646, 0.43188277132751507, -0.009211760356587549, -0.06062459069356379, 0.11999886976430937, 0.06326814139964838, -0.09633961826825559, 0.10057130998574261, 0.3131179268609463, -0.020492402500577954, -0.3362982846984971, 0.3549307078927568, 0.2942328784069205, 0.3333125623154421, 1.0, 0.27807020363722595, 0.27935847892844207, -0.285241310295581, 0.09577473766009809, 0.2408235565292133, 0.03787990020728005, 0.10125246802181254, 0.11727230654466908, -0.11483871499570059, -0.08550850677032465, -0.16467355590159904], [0.2797560822359026, 0.6296031609781177, 0.5149734780629677, -0.008392549998355633, 0.1053776678428196, 0.1246658005648968, -0.016557742951036198, -0.02257359179493519, 0.25715163510819916, 0.01627372679457073, 0.3293485259115254, -0.415551893880319, 0.17620730704239565, 0.2821064219717299, 0.3908740269195431, 0.27807020363722595, 1.0, 0.5330938326942409, -0.11228242714591914, 0.06161243382925978, 0.0720490410206093, 0.22384098246008893, 0.04625225164274569, 0.040433080354261755, 0.14462638547452714, -0.24774242360739093, 0.06322774611875473], [0.2861105877784818, 0.6274288843898884, 0.5201217821008771, -0.010487356300499686, 0.12017625118896011, 0.11741185447194351, -0.039740962058925404, -0.03295889236478296, 0.25875149199378983, 0.02569783199417058, 0.32292269808483876, -0.4186750789702281, 0.18739833092625272, 0.274501201960493, 0.40211053776620614, 0.27935847892844207, 0.5330938326942409, 1.0, -0.11663335681857676, 0.06492603542902547, 0.0739598441369921, 0.21171599176513312, 0.04865217505038656, 0.04857480053298277, 0.13796637540689907, -0.25059546380835057, 0.06138154801518815], [-0.6455614232660657, 0.06016532712773668, -0.44425490807683077, -0.0033859456136262796, 0.13836046440262936, -0.28086522610830583, -0.23172016612971874, -0.0007424302790417011, -0.08820313233781159, -0.06550876072359825, 0.24416415597397462, -0.21863876616156266, -0.2466788676313635, -0.16417233309253518, -0.2256620025394026, -0.285241310295581, -0.11228242714591914, -0.11663335681857676, 1.0, -0.5687442811987107, -0.6226334072449183, 0.16909644687220246, -0.1797068873575995, -0.2041449607569331, 0.3316614848172629, 0.004138055475923, 0.40510291068797993], [0.20257047544942658, 0.0049038394150229475, 0.17081388562935948, 0.008025643075007296, -0.046262442927024604, 0.08278330748147045, 0.06836848043822162, -0.002790643098633068, -0.0037935880457823363, 0.04679527357238784, -0.076324090894692, 0.03800394241917166, 0.10016245689105537, 0.08372237279772053, 0.10249519931671455, 0.09577473766009809, 0.06161243382925978, 0.06492603542902547, -0.5687442811987107, 1.0, -0.2895095723414823, -0.051391159173448574, 0.05745066212990877, 0.06758941420686729, -0.10912981441493343, -0.00011622106193560245, -0.17782001834992608], [0.5585326708194087, -0.07468085092684532, 0.35448077651087573, -0.0036950508034764595, -0.11700001812505513, 0.24809065453753587, 0.20461344694775824, 0.0035189075685092257, 0.10625270251960395, 0.031714234510355516, -0.21152603536969214, 0.21827822340961614, 0.19177339915203528, 0.11139959504622358, 0.16509639131424095, 0.2408235565292133, 0.0720490410206093, 0.0739598441369921, -0.6226334072449183, -0.2895095723414823, 1.0, -0.14788875031014193, 0.15447149916965344, 0.1732648524269204, -0.2821379770975611, -0.004704962197151649, -0.3022534693496566], [0.006152481598270628, 0.3521499677959598, 0.15857437033153188, -0.011753691221221238, 0.15652955931114873, -0.014876622287889343, -0.11137722919362898, 0.016504805732567716, 0.16353017421289867, -0.0631210849300296, 0.32685324851959013, -0.3210130652332027, -0.0036358971484736916, 0.12673537300695792, 0.10379680498154323, 0.03787990020728005, 0.22384098246008893, 0.21171599176513312, 0.16909644687220246, -0.051391159173448574, -0.14788875031014193, 1.0, -0.016332203527892688, -0.013588829059283302, 0.20886475546714192, -0.2053980051888406, 0.19182533166644541], [0.24351044443849634, 0.04281214055789888, 0.18598693210410833, -0.016023595160041378, -0.016158940862199146, 0.11070636952476212, 0.05202098094740329, 0.00755621292514459, 0.07552652675122472, 0.025475536146245106, -0.022624012243866037, -0.0021133998738822233, 0.0951580427350095, 0.08700369093869247, 0.08311454613207714, 0.10125246802181254, 0.04625225164274569, 0.04865217505038656, -0.1797068873575995, 0.05745066212990877, 0.15447149916965344, -0.016332203527892688, 1.0, -0.2782148074777716, -0.3767621373493346, -0.28868512421141257, -0.11793667192853156], [0.23300552501250182, 0.03055035807230956, 0.18291458126297283, 0.0012147794729686294, -0.0241353723603211, 0.08202919645731585, 0.06026700017637367, -0.007721160009098325, 0.06004835777743914, 0.05143757263283329, -0.05007665545044517, 0.0010297293228975783, 0.11572065517555083, 0.0907847854525632, 0.11155436356101248, 0.11727230654466908, 0.040433080354261755, 0.04857480053298277, -0.2041449607569331, 0.06758941420686729, 0.1732648524269204, -0.013588829059283302, -0.2782148074777716, 1.0, -0.3733222859365921, -0.28604941899078157, -0.13430175066263256], [-0.20836250343948295, 0.27162467108611776, -0.0592458883282833, 0.0007521807011949914, 0.17171777869091615, -0.08385168936270106, -0.15064248847911435, 0.0030618298454302066, 0.08361817831666819, -0.10441759819553018, 0.3364097780255705, -0.2849166458500381, -0.11233777625406866, -0.0004077158725881331, -0.003350773408872253, -0.11483871499570059, 0.14462638547452714, 0.13796637540689907, 0.3316614848172629, -0.10912981441493343, -0.2821379770975611, 0.20886475546714192, -0.3767621373493346, -0.3733222859365921, 1.0, -0.3873718709062573, 0.301918749011285], [-0.23385205012387747, -0.3774373156841081, -0.29575842313548534, 0.013744173305345336, -0.15347749042895084, -0.09512485882292497, 0.05907101281466968, -0.0033187895436075847, -0.22720630042804055, 0.041899281981820136, -0.30683412957623935, 0.32136073231782275, -0.08079805377721072, -0.17416391693981773, -0.18737348746355928, -0.08550850677032465, -0.24774242360739093, -0.25059546380835057, 0.004138055475923, -0.00011622106193560245, -0.004704962197151649, -0.2053980051888406, -0.28868512421141257, -0.28604941899078157, -0.3873718709062573, 1.0, -0.09168283858843226], [-0.35222867011307624, 0.19335642223784502, -0.19832426260399383, -0.008612095078997463, 0.15088932817647296, -0.15044754495916807, -0.16422140157973802, 0.011941980029002547, 0.04010212769982239, -0.12421382390258645, 0.3080197449448075, -0.22789044975610792, -0.17122629194853634, -0.08225486893813826, -0.06615979128028415, -0.16467355590159904, 0.06322774611875473, 0.06138154801518815, 0.40510291068797993, -0.17782001834992608, -0.3022534693496566, 0.19182533166644541, -0.11793667192853156, -0.13430175066263256, 0.301918749011285, -0.09168283858843226, 1.0]]}],\n",
       "                        {\"autosize\": false, \"height\": 720, \"margin\": {\"b\": 210, \"l\": 210, \"r\": 0, \"t\": 25}, \"template\": {\"data\": {\"bar\": [{\"error_x\": {\"color\": \"#2a3f5f\"}, \"error_y\": {\"color\": \"#2a3f5f\"}, \"marker\": {\"line\": {\"color\": \"#E5ECF6\", \"width\": 0.5}}, \"type\": \"bar\"}], \"barpolar\": [{\"marker\": {\"line\": {\"color\": \"#E5ECF6\", \"width\": 0.5}}, \"type\": \"barpolar\"}], \"carpet\": [{\"aaxis\": {\"endlinecolor\": \"#2a3f5f\", \"gridcolor\": \"white\", \"linecolor\": \"white\", \"minorgridcolor\": \"white\", \"startlinecolor\": \"#2a3f5f\"}, \"baxis\": {\"endlinecolor\": \"#2a3f5f\", \"gridcolor\": \"white\", \"linecolor\": \"white\", \"minorgridcolor\": \"white\", \"startlinecolor\": \"#2a3f5f\"}, \"type\": \"carpet\"}], \"choropleth\": [{\"colorbar\": {\"outlinewidth\": 0, \"ticks\": \"\"}, \"type\": \"choropleth\"}], \"contour\": [{\"colorbar\": {\"outlinewidth\": 0, \"ticks\": \"\"}, \"colorscale\": [[0.0, \"#0d0887\"], [0.1111111111111111, \"#46039f\"], [0.2222222222222222, \"#7201a8\"], [0.3333333333333333, \"#9c179e\"], [0.4444444444444444, \"#bd3786\"], [0.5555555555555556, \"#d8576b\"], [0.6666666666666666, \"#ed7953\"], [0.7777777777777778, \"#fb9f3a\"], [0.8888888888888888, \"#fdca26\"], [1.0, \"#f0f921\"]], \"type\": \"contour\"}], \"contourcarpet\": [{\"colorbar\": {\"outlinewidth\": 0, \"ticks\": \"\"}, \"type\": \"contourcarpet\"}], \"heatmap\": [{\"colorbar\": {\"outlinewidth\": 0, \"ticks\": \"\"}, \"colorscale\": [[0.0, \"#0d0887\"], [0.1111111111111111, \"#46039f\"], [0.2222222222222222, \"#7201a8\"], [0.3333333333333333, \"#9c179e\"], [0.4444444444444444, \"#bd3786\"], [0.5555555555555556, \"#d8576b\"], [0.6666666666666666, \"#ed7953\"], [0.7777777777777778, \"#fb9f3a\"], [0.8888888888888888, \"#fdca26\"], [1.0, \"#f0f921\"]], \"type\": \"heatmap\"}], \"heatmapgl\": [{\"colorbar\": {\"outlinewidth\": 0, \"ticks\": \"\"}, \"colorscale\": [[0.0, \"#0d0887\"], [0.1111111111111111, \"#46039f\"], [0.2222222222222222, \"#7201a8\"], [0.3333333333333333, \"#9c179e\"], [0.4444444444444444, \"#bd3786\"], [0.5555555555555556, \"#d8576b\"], [0.6666666666666666, \"#ed7953\"], [0.7777777777777778, \"#fb9f3a\"], [0.8888888888888888, \"#fdca26\"], [1.0, \"#f0f921\"]], \"type\": \"heatmapgl\"}], \"histogram\": [{\"marker\": {\"colorbar\": {\"outlinewidth\": 0, \"ticks\": \"\"}}, \"type\": \"histogram\"}], \"histogram2d\": [{\"colorbar\": {\"outlinewidth\": 0, \"ticks\": \"\"}, \"colorscale\": [[0.0, \"#0d0887\"], [0.1111111111111111, \"#46039f\"], [0.2222222222222222, \"#7201a8\"], [0.3333333333333333, \"#9c179e\"], [0.4444444444444444, \"#bd3786\"], [0.5555555555555556, \"#d8576b\"], [0.6666666666666666, \"#ed7953\"], [0.7777777777777778, \"#fb9f3a\"], [0.8888888888888888, \"#fdca26\"], [1.0, \"#f0f921\"]], \"type\": \"histogram2d\"}], \"histogram2dcontour\": [{\"colorbar\": {\"outlinewidth\": 0, \"ticks\": \"\"}, \"colorscale\": [[0.0, \"#0d0887\"], [0.1111111111111111, \"#46039f\"], [0.2222222222222222, \"#7201a8\"], [0.3333333333333333, \"#9c179e\"], [0.4444444444444444, \"#bd3786\"], [0.5555555555555556, \"#d8576b\"], [0.6666666666666666, \"#ed7953\"], [0.7777777777777778, \"#fb9f3a\"], [0.8888888888888888, \"#fdca26\"], [1.0, \"#f0f921\"]], \"type\": \"histogram2dcontour\"}], \"mesh3d\": [{\"colorbar\": {\"outlinewidth\": 0, \"ticks\": \"\"}, \"type\": \"mesh3d\"}], \"parcoords\": [{\"line\": {\"colorbar\": {\"outlinewidth\": 0, \"ticks\": \"\"}}, \"type\": \"parcoords\"}], \"pie\": [{\"automargin\": true, \"type\": \"pie\"}], \"scatter\": [{\"marker\": {\"colorbar\": {\"outlinewidth\": 0, \"ticks\": \"\"}}, \"type\": \"scatter\"}], \"scatter3d\": [{\"line\": {\"colorbar\": {\"outlinewidth\": 0, \"ticks\": \"\"}}, \"marker\": {\"colorbar\": {\"outlinewidth\": 0, \"ticks\": \"\"}}, \"type\": \"scatter3d\"}], \"scattercarpet\": [{\"marker\": {\"colorbar\": {\"outlinewidth\": 0, \"ticks\": \"\"}}, \"type\": \"scattercarpet\"}], \"scattergeo\": [{\"marker\": {\"colorbar\": {\"outlinewidth\": 0, \"ticks\": \"\"}}, \"type\": \"scattergeo\"}], \"scattergl\": [{\"marker\": {\"colorbar\": {\"outlinewidth\": 0, \"ticks\": \"\"}}, \"type\": \"scattergl\"}], \"scattermapbox\": [{\"marker\": {\"colorbar\": {\"outlinewidth\": 0, \"ticks\": \"\"}}, \"type\": \"scattermapbox\"}], \"scatterpolar\": [{\"marker\": {\"colorbar\": {\"outlinewidth\": 0, \"ticks\": \"\"}}, \"type\": \"scatterpolar\"}], \"scatterpolargl\": [{\"marker\": {\"colorbar\": {\"outlinewidth\": 0, \"ticks\": \"\"}}, \"type\": \"scatterpolargl\"}], \"scatterternary\": [{\"marker\": {\"colorbar\": {\"outlinewidth\": 0, \"ticks\": \"\"}}, \"type\": \"scatterternary\"}], \"surface\": [{\"colorbar\": {\"outlinewidth\": 0, \"ticks\": \"\"}, \"colorscale\": [[0.0, \"#0d0887\"], [0.1111111111111111, \"#46039f\"], [0.2222222222222222, \"#7201a8\"], [0.3333333333333333, \"#9c179e\"], [0.4444444444444444, \"#bd3786\"], [0.5555555555555556, \"#d8576b\"], [0.6666666666666666, \"#ed7953\"], [0.7777777777777778, \"#fb9f3a\"], [0.8888888888888888, \"#fdca26\"], [1.0, \"#f0f921\"]], \"type\": \"surface\"}], \"table\": [{\"cells\": {\"fill\": {\"color\": \"#EBF0F8\"}, \"line\": {\"color\": \"white\"}}, \"header\": {\"fill\": {\"color\": \"#C8D4E3\"}, \"line\": {\"color\": \"white\"}}, \"type\": \"table\"}]}, \"layout\": {\"annotationdefaults\": {\"arrowcolor\": \"#2a3f5f\", \"arrowhead\": 0, \"arrowwidth\": 1}, \"coloraxis\": {\"colorbar\": {\"outlinewidth\": 0, \"ticks\": \"\"}}, \"colorscale\": {\"diverging\": [[0, \"#8e0152\"], [0.1, \"#c51b7d\"], [0.2, \"#de77ae\"], [0.3, \"#f1b6da\"], [0.4, \"#fde0ef\"], [0.5, \"#f7f7f7\"], [0.6, \"#e6f5d0\"], [0.7, \"#b8e186\"], [0.8, \"#7fbc41\"], [0.9, \"#4d9221\"], [1, \"#276419\"]], \"sequential\": [[0.0, \"#0d0887\"], [0.1111111111111111, \"#46039f\"], [0.2222222222222222, \"#7201a8\"], [0.3333333333333333, \"#9c179e\"], [0.4444444444444444, \"#bd3786\"], [0.5555555555555556, \"#d8576b\"], [0.6666666666666666, \"#ed7953\"], [0.7777777777777778, \"#fb9f3a\"], [0.8888888888888888, \"#fdca26\"], [1.0, \"#f0f921\"]], \"sequentialminus\": [[0.0, \"#0d0887\"], [0.1111111111111111, \"#46039f\"], [0.2222222222222222, \"#7201a8\"], [0.3333333333333333, \"#9c179e\"], [0.4444444444444444, \"#bd3786\"], [0.5555555555555556, \"#d8576b\"], [0.6666666666666666, \"#ed7953\"], [0.7777777777777778, \"#fb9f3a\"], [0.8888888888888888, \"#fdca26\"], [1.0, \"#f0f921\"]]}, \"colorway\": [\"#636efa\", \"#EF553B\", \"#00cc96\", \"#ab63fa\", \"#FFA15A\", \"#19d3f3\", \"#FF6692\", \"#B6E880\", \"#FF97FF\", \"#FECB52\"], \"font\": {\"color\": \"#2a3f5f\"}, \"geo\": {\"bgcolor\": \"white\", \"lakecolor\": \"white\", \"landcolor\": \"#E5ECF6\", \"showlakes\": true, \"showland\": true, \"subunitcolor\": \"white\"}, \"hoverlabel\": {\"align\": \"left\"}, \"hovermode\": \"closest\", \"mapbox\": {\"style\": \"light\"}, \"paper_bgcolor\": \"white\", \"plot_bgcolor\": \"#E5ECF6\", \"polar\": {\"angularaxis\": {\"gridcolor\": \"white\", \"linecolor\": \"white\", \"ticks\": \"\"}, \"bgcolor\": \"#E5ECF6\", \"radialaxis\": {\"gridcolor\": \"white\", \"linecolor\": \"white\", \"ticks\": \"\"}}, \"scene\": {\"xaxis\": {\"backgroundcolor\": \"#E5ECF6\", \"gridcolor\": \"white\", \"gridwidth\": 2, \"linecolor\": \"white\", \"showbackground\": true, \"ticks\": \"\", \"zerolinecolor\": \"white\"}, \"yaxis\": {\"backgroundcolor\": \"#E5ECF6\", \"gridcolor\": \"white\", \"gridwidth\": 2, \"linecolor\": \"white\", \"showbackground\": true, \"ticks\": \"\", \"zerolinecolor\": \"white\"}, \"zaxis\": {\"backgroundcolor\": \"#E5ECF6\", \"gridcolor\": \"white\", \"gridwidth\": 2, \"linecolor\": \"white\", \"showbackground\": true, \"ticks\": \"\", \"zerolinecolor\": \"white\"}}, \"shapedefaults\": {\"line\": {\"color\": \"#2a3f5f\"}}, \"ternary\": {\"aaxis\": {\"gridcolor\": \"white\", \"linecolor\": \"white\", \"ticks\": \"\"}, \"baxis\": {\"gridcolor\": \"white\", \"linecolor\": \"white\", \"ticks\": \"\"}, \"bgcolor\": \"#E5ECF6\", \"caxis\": {\"gridcolor\": \"white\", \"linecolor\": \"white\", \"ticks\": \"\"}}, \"title\": {\"x\": 0.05}, \"xaxis\": {\"automargin\": true, \"gridcolor\": \"white\", \"linecolor\": \"white\", \"ticks\": \"\", \"title\": {\"standoff\": 15}, \"zerolinecolor\": \"white\", \"zerolinewidth\": 2}, \"yaxis\": {\"automargin\": true, \"gridcolor\": \"white\", \"linecolor\": \"white\", \"ticks\": \"\", \"title\": {\"standoff\": 15}, \"zerolinecolor\": \"white\", \"zerolinewidth\": 2}}}, \"title\": {\"text\": \"Correlation Matrix for variables\"}, \"width\": 800, \"xaxis\": {\"tickfont\": {\"size\": 9}}, \"yaxis\": {\"tickfont\": {\"size\": 9}}},\n",
       "                        {\"responsive\": true}\n",
       "                    ).then(function(){\n",
       "                            \n",
       "var gd = document.getElementById('e9555385-3049-4214-bc54-2d08e23b1d1d');\n",
       "var x = new MutationObserver(function (mutations, observer) {{\n",
       "        var display = window.getComputedStyle(gd).display;\n",
       "        if (!display || display === 'none') {{\n",
       "            console.log([gd, 'removed!']);\n",
       "            Plotly.purge(gd);\n",
       "            observer.disconnect();\n",
       "        }}\n",
       "}});\n",
       "\n",
       "// Listen for the removal of the full notebook cells\n",
       "var notebookContainer = gd.closest('#notebook-container');\n",
       "if (notebookContainer) {{\n",
       "    x.observe(notebookContainer, {childList: true});\n",
       "}}\n",
       "\n",
       "// Listen for the clearing of the current output cell\n",
       "var outputEl = gd.closest('.output');\n",
       "if (outputEl) {{\n",
       "    x.observe(outputEl, {childList: true});\n",
       "}}\n",
       "\n",
       "                        })\n",
       "                };\n",
       "                });\n",
       "            </script>\n",
       "        </div>"
      ]
     },
     "metadata": {},
     "output_type": "display_data"
    }
   ],
   "source": [
    "#correlation\n",
    "correlation = df.corr()\n",
    "#tick labels\n",
    "matrix_cols = correlation.columns.tolist()\n",
    "#convert to array\n",
    "corr_array  = np.array(correlation)\n",
    "\n",
    "#Plotting\n",
    "trace = go.Heatmap(z = corr_array,\n",
    "                   x = matrix_cols,\n",
    "                   y = matrix_cols,\n",
    "                   colorscale = \"Viridis\",\n",
    "                   colorbar   = dict(title = \"Pearson Correlation coefficient\",\n",
    "                                     titleside = \"right\"\n",
    "                                    ) ,\n",
    "                  )\n",
    "\n",
    "layout = go.Layout(dict(title = \"Correlation Matrix for variables\",\n",
    "                        autosize = False,\n",
    "                        height  = 720,\n",
    "                        width   = 800,\n",
    "                        margin  = dict(r = 0 ,l = 210,\n",
    "                                       t = 25,b = 210,\n",
    "                                      ),\n",
    "                        yaxis   = dict(tickfont = dict(size = 9)),\n",
    "                        xaxis   = dict(tickfont = dict(size = 9))\n",
    "                       )\n",
    "                  )\n",
    "\n",
    "data = [trace]\n",
    "fig = go.Figure(data=data,layout=layout)\n",
    "py.iplot(fig)\n"
   ]
  },
  {
   "cell_type": "markdown",
   "metadata": {},
   "source": [
    "# 哪些用户更趋于流失？\n",
    "\n",
    "# 解决办法模型：决策树\n",
    "\n",
    "## 利用决策树对结果有很好的可解释性以及样本集比较小（小于8000例），且feature之间有关系时，先用决策树模型画出将用户进行流失判别的标准。"
   ]
  },
  {
   "cell_type": "markdown",
   "metadata": {},
   "source": [
    "因为特征的选择对决策树影响不大，所以下面直接建立决策树模型。"
   ]
  },
  {
   "cell_type": "markdown",
   "metadata": {},
   "source": [
    "step 1: 用交叉检验来确定决策树的最佳层数。需注意分析此模型的原因是建立用户流失的预警机制，同时数据本身存在样本集小和feature局限的问题，所以模型选择的判别标准为更高的reall（尽可能找到更多的流失客户），即可以略舍弃precision（鉴于recall和precision的天然trade-off关系）。"
   ]
  },
  {
   "cell_type": "code",
   "execution_count": 20,
   "metadata": {
    "collapsed": true
   },
   "outputs": [],
   "source": [
    "from sklearn.model_selection import train_test_split\n",
    "\n",
    "from sklearn import tree\n",
    "\n",
    "#from sklearn.cross_validation import StratifiedShuffleSplit\n",
    "\n",
    "from sklearn.metrics import precision_score, accuracy_score,recall_score\n",
    "\n",
    "from sklearn.pipeline import Pipeline\n",
    "#from sklearn.grid_search import GridSearchCV\n",
    "\n",
    "from sklearn.feature_selection import SelectKBest, f_classif\n",
    "#from sklearn.cross_validation import StratifiedShuffleSplit\n",
    "\n",
    "from sklearn.decomposition import PCA\n",
    "\n",
    "from sklearn.tree import DecisionTreeClassifier\n",
    "from sklearn.model_selection import cross_val_score\n",
    "import numpy as np\n",
    "import matplotlib.pyplot as plt\n",
    "from sklearn.metrics import confusion_matrix,accuracy_score,classification_report\n",
    "from sklearn.feature_selection import SelectFromModel\n",
    "\n",
    "\n",
    "#from sklearn.externals.six import StringIO  \n",
    "#import pydot "
   ]
  },
  {
   "cell_type": "code",
   "execution_count": 21,
   "metadata": {
    "collapsed": true
   },
   "outputs": [],
   "source": [
    "# 提出所有feature列\n",
    "feature_col_list = ['tenure', 'MonthlyCharges', 'TotalCharges', 'gender_Label',\n",
    "       'SeniorCitizen_Label', 'Partner_Label', 'Dependents_Label',\n",
    "       'PhoneService_Label', 'MultipleLines_Label', 'InternetService_DSL',\n",
    "       'InternetService_Fiber optic', 'InternetService_No',\n",
    "       'OnlineSecurity_Label', 'OnlineBackup_Label',\n",
    "       'DeviceProtection_Label', 'TechSupport_Label', 'StreamingTV_Label',\n",
    "       'StreamingMovies_Label', 'Contract_Month-to-month',\n",
    "       'Contract_One year', 'Contract_Two year', 'PaperlessBilling_Label',\n",
    "       'PaymentMethod_Bank transfer (automatic)',\n",
    "       'PaymentMethod_Credit card (automatic)',\n",
    "       'PaymentMethod_Electronic check', 'PaymentMethod_Mailed check']"
   ]
  },
  {
   "cell_type": "code",
   "execution_count": 22,
   "metadata": {
    "collapsed": true
   },
   "outputs": [],
   "source": [
    "\n",
    "# function for fitting trees of various depths on the training data using cross-validation\n",
    "def run_cross_validation_on_trees(X, y, tree_depths, cv=5, scoring='recall'):\n",
    "    cv_scores_list = []\n",
    "    cv_scores_std = []\n",
    "    cv_scores_mean = []\n",
    "    recall_scores = []\n",
    "    for depth in tree_depths:\n",
    "        tree_model = DecisionTreeClassifier(max_depth=depth)\n",
    "        cv_scores = cross_val_score(tree_model, X, y, cv=cv, scoring=scoring)\n",
    "        cv_scores_list.append(cv_scores)\n",
    "        cv_scores_mean.append(cv_scores.mean())\n",
    "        cv_scores_std.append(cv_scores.std())\n",
    "        recall_scores.append(tree_model.fit(X, y).score(X, y))\n",
    "    cv_scores_mean = np.array(cv_scores_mean)\n",
    "    cv_scores_std = np.array(cv_scores_std)\n",
    "    recall_scores = np.array(recall_scores)\n",
    "    return cv_scores_mean, cv_scores_std, recall_scores\n",
    "  \n",
    "# function for plotting cross-validation results\n",
    "def plot_cross_validation_on_trees(depths, cv_scores_mean, cv_scores_std, accuracy_scores, title):\n",
    "    fig, ax = plt.subplots(1,1, figsize=(15,5))\n",
    "    ax.plot(depths, cv_scores_mean, '-o', label='mean cross-validation recall', alpha=0.9)\n",
    "    ax.fill_between(depths, cv_scores_mean-2*cv_scores_std, cv_scores_mean+2*cv_scores_std, alpha=0.2) #confidence interval\n",
    "    ylim = plt.ylim()\n",
    "    ax.set_title(title, fontsize=16)\n",
    "    ax.set_xlabel('Tree depth', fontsize=14)\n",
    "    ax.set_ylabel('recall', fontsize=14)\n",
    "    ax.set_ylim(ylim)\n",
    "    ax.set_xticks(depths)\n",
    "    ax.legend()\n",
    "\n",
    "# fitting trees of depth 1 to 26\n",
    "sm_tree_depths = range(1,27)\n",
    "X_train = df[feature_col_list]\n",
    "y_train = df['Churn_Label']\n",
    "sm_cv_scores_mean, sm_cv_scores_std, sm_accuracy_scores= run_cross_validation_on_trees(X_train, y_train, sm_tree_depths)\n",
    "\n",
    "# plotting recall\n",
    "plot_cross_validation_on_trees(sm_tree_depths, sm_cv_scores_mean, sm_cv_scores_std, sm_accuracy_scores, \n",
    "                               'Recall per decision tree depth on training data')"
   ]
  },
  {
   "cell_type": "code",
   "execution_count": 23,
   "metadata": {
    "collapsed": false
   },
   "outputs": [
    {
     "data": {
      "image/png": "[encoded data removed]",
      "text/plain": [
       "<matplotlib.figure.Figure at 0x2bd36ff4e10>"
      ]
     },
     "metadata": {},
     "output_type": "display_data"
    }
   ],
   "source": [
    "plt.show()"
   ]
  },
  {
   "cell_type": "markdown",
   "metadata": {},
   "source": [
    "从上图可以得知，max_depth = 2 可以得到最好的recall score。所以下面的模型我们会把max_depth选为 2。"
   ]
  },
  {
   "cell_type": "code",
   "execution_count": 24,
   "metadata": {
    "collapsed": true
   },
   "outputs": [],
   "source": [
    "train,test = train_test_split(df,test_size = .3 ,random_state = 111)\n",
    "\n",
    "features_train = train[feature_col_list]\n",
    "labels_train = train['Churn_Label']\n",
    "\n",
    "features_test = test[feature_col_list]\n",
    "labels_test = test['Churn_Label']"
   ]
  },
  {
   "cell_type": "code",
   "execution_count": 25,
   "metadata": {
    "collapsed": true
   },
   "outputs": [],
   "source": [
    "clf = tree.DecisionTreeClassifier(max_depth = 2)\n",
    "clf = clf.fit(features_train, labels_train)\n",
    "pred = clf.predict(features_test)"
   ]
  },
  {
   "cell_type": "code",
   "execution_count": 26,
   "metadata": {
    "collapsed": false
   },
   "outputs": [
    {
     "name": "stdout",
     "output_type": "stream",
     "text": [
      "              precision    recall  f1-score   support\n",
      "\n",
      "           0       0.86      0.80      0.83      1589\n",
      "           1       0.50      0.61      0.55       524\n",
      "\n",
      "    accuracy                           0.75      2113\n",
      "   macro avg       0.68      0.71      0.69      2113\n",
      "weighted avg       0.77      0.75      0.76      2113\n",
      "\n"
     ]
    }
   ],
   "source": [
    "print (classification_report(labels_test, pred))"
   ]
  },
  {
   "cell_type": "markdown",
   "metadata": {},
   "source": [
    "这个模型能找出所有流失客户里的61%，模型认为的流失用户里有一半确实是流失用户。 "
   ]
  },
  {
   "cell_type": "markdown",
   "metadata": {},
   "source": [
    "下面来看一下模型用了哪些feature来分裂决策树。"
   ]
  },
  {
   "cell_type": "code",
   "execution_count": 27,
   "metadata": {
    "collapsed": false
   },
   "outputs": [
    {
     "data": {
      "text/plain": [
       "array([0.        , 0.02623758, 0.        , 0.        , 0.        ,\n",
       "       0.        , 0.        , 0.        , 0.        , 0.        ,\n",
       "       0.23560231, 0.        , 0.        , 0.        , 0.        ,\n",
       "       0.        , 0.        , 0.        , 0.7381601 , 0.        ,\n",
       "       0.        , 0.        , 0.        , 0.        , 0.        ,\n",
       "       0.        ])"
      ]
     },
     "execution_count": 27,
     "metadata": {},
     "output_type": "execute_result"
    }
   ],
   "source": [
    "clf.feature_importances_"
   ]
  },
  {
   "cell_type": "code",
   "execution_count": 28,
   "metadata": {
    "collapsed": false
   },
   "outputs": [
    {
     "name": "stdout",
     "output_type": "stream",
     "text": [
      "feature: MonthlyCharges, importance: 0.0262375834553874\n",
      "feature: InternetService_Fiber optic, importance: 0.2356023129777826\n",
      "feature: Contract_Month-to-month, importance: 0.7381601035668299\n"
     ]
    }
   ],
   "source": [
    "for feat, importance in zip(features_train.columns, clf.feature_importances_):\n",
    "    if importance > 0:\n",
    "        print ('feature: {f}, importance: {i}'.format(f=feat, i=importance))"
   ]
  },
  {
   "cell_type": "code",
   "execution_count": 29,
   "metadata": {
    "collapsed": false
   },
   "outputs": [
    {
     "data": {
      "image/png": "[encoded data removed]",
      "text/plain": [
       "<matplotlib.figure.Figure at 0x2bd390b6d30>"
      ]
     },
     "metadata": {},
     "output_type": "display_data"
    }
   ],
   "source": [
    "fig, axes = plt.subplots(figsize = (15,15))\n",
    "\n",
    "tree.plot_tree(clf, feature_names = feature_col_list)\n",
    "                              \n",
    "plt.show()"
   ]
  },
  {
   "cell_type": "markdown",
   "metadata": {},
   "source": [
    "从上面图可知，签了\"month-to-month\"合约的客户比一次性签了1年或2年的客户更容易流失，这在业务理解上也容易说得通。\n",
    "\n",
    "当然从上图还获知，尽管客户签了1年或2年的合约，但如果发现每个月的花费超过94美元，也容易成为流失客户。由此可以推测，对待长时间合同的客户，我们可以考虑从性价比入手来提高留存率，比如推出94美元内的各种套餐组合。如果长合约用户的花费有超过94美元的可能，立马推荐他们其他更高性价比的套餐。\n",
    "\n",
    "同时我们还发现，对于签了“month-to-month”的这批用户，如果他们同时还签了\"Fiber optic\"的上网服务，那么这批客户有很大可能性会被流失掉。虽然签月合同的客户本来就容易流失，但叠加的“Fiber optic”上网服务看起来让情况变得更糟。需要做市场调查和问卷调查了解清楚“Fiber optic”上网服务是不是存在问题，可从定价，网速，竞争对手作为入手点。在调查清楚之前，尽量不要让客服和销售人员推荐“Fiber optic”上网服务给月合同客户。\n",
    "\n",
    "所以总结来说，为了提高留存率，我们更鼓励客户签长时间合同，如果客户愿意签长时间，那么我们要注意监控客户的月消费情况，尽量推荐高性价比的服务给他们；如果客户还是想尝试月合同，那么我们要在现阶段避免他们选择\"Fiber optic\"的上网服务。"
   ]
  },
  {
   "cell_type": "markdown",
   "metadata": {},
   "source": [
    "面对可能存在correlated variables， 决策树可以用feature importance（基于information gain或者gini）去提取其中任意一个，剩下的variables则会有比较低的feature importance（因为很多可被提取的information已经涵盖在被提取的那个feature里），尽管这批variables的每一个都和target variable有着很相似的关联。所以我们经常认为coreelated issues对决策树在learning和overfitting上基本无影响。但是在数据的理解上面可能会存在问题，比如上面的contractor-month-to-month是feature importance最高的分叉点，但又因为contractor-month-to-month和其他varibale有很高的关联性，所以我们想剔除contactor-month-to-month来看一下决策树。\n",
    "\n",
    "从上面correlation matrix图可知与Contract_month-to-month有比较强的correlation variables有 tenur 和 TotalCharges.\n",
    "\n",
    "下面我们把 Contract_month-to-month 从可选features里删除，来观察是否决策树会选择tenure 或者 TotalCharges作为分叉点。"
   ]
  },
  {
   "cell_type": "code",
   "execution_count": 30,
   "metadata": {
    "collapsed": true
   },
   "outputs": [],
   "source": [
    "# 除去Contractor_month-to-month的所有feature列\n",
    "feature_col_list = ['tenure', 'MonthlyCharges', 'TotalCharges', 'gender_Label',\n",
    "       'SeniorCitizen_Label', 'Partner_Label', 'Dependents_Label',\n",
    "       'PhoneService_Label', 'MultipleLines_Label', 'InternetService_DSL',\n",
    "       'InternetService_Fiber optic', 'InternetService_No',\n",
    "       'OnlineSecurity_Label', 'OnlineBackup_Label',\n",
    "       'DeviceProtection_Label', 'TechSupport_Label', 'StreamingTV_Label',\n",
    "       'StreamingMovies_Label', #'Contract_Month-to-month',\n",
    "       'Contract_One year', 'Contract_Two year', 'PaperlessBilling_Label',\n",
    "       'PaymentMethod_Bank transfer (automatic)',\n",
    "       'PaymentMethod_Credit card (automatic)',\n",
    "       'PaymentMethod_Electronic check', 'PaymentMethod_Mailed check']"
   ]
  },
  {
   "cell_type": "code",
   "execution_count": 31,
   "metadata": {
    "collapsed": false
   },
   "outputs": [
    {
     "name": "stdout",
     "output_type": "stream",
     "text": [
      "              precision    recall  f1-score   support\n",
      "\n",
      "           0       0.82      0.93      0.87      1589\n",
      "           1       0.63      0.38      0.48       524\n",
      "\n",
      "    accuracy                           0.79      2113\n",
      "   macro avg       0.73      0.65      0.67      2113\n",
      "weighted avg       0.77      0.79      0.77      2113\n",
      "\n"
     ]
    }
   ],
   "source": [
    "train,test = train_test_split(df,test_size = .3 ,random_state = 111)\n",
    "\n",
    "features_train = train[feature_col_list]\n",
    "labels_train = train['Churn_Label']\n",
    "\n",
    "features_test = test[feature_col_list]\n",
    "labels_test = test['Churn_Label']\n",
    "\n",
    "clf_1 = tree.DecisionTreeClassifier(max_depth = 2)\n",
    "clf_1 = clf_1.fit(features_train, labels_train)\n",
    "pred_1 = clf_1.predict(features_test)\n",
    "\n",
    "print (classification_report(labels_test, pred_1))"
   ]
  },
  {
   "cell_type": "code",
   "execution_count": 32,
   "metadata": {
    "collapsed": false
   },
   "outputs": [
    {
     "data": {
      "image/png": "[encoded data removed]",
      "text/plain": [
       "<matplotlib.figure.Figure at 0x2bd390f99b0>"
      ]
     },
     "metadata": {},
     "output_type": "display_data"
    }
   ],
   "source": [
    "fig, axes = plt.subplots(figsize = (15,15))\n",
    "\n",
    "tree.plot_tree(clf_1, feature_names = feature_col_list)\n",
    "                              \n",
    "plt.show()"
   ]
  },
  {
   "cell_type": "markdown",
   "metadata": {},
   "source": [
    "当去除\"Contractor_month-to-month\"这个特征后，决策树果然选择了和\"Contractor_month-to-month\"有很高correlation的 tenure 作为最高分叉点。同时也再次验证了选择\"fiber optic\"的用户更容易被流失掉，其中短期+\"fiber optic\"的组合让留存率更低。\n",
    "\n",
    "下面我们看看同时剔除\"Contractor_month-to-month\"和\"tenure\"两个feature后，totalcharges是否会成为决策树的重要分叉点。"
   ]
  },
  {
   "cell_type": "code",
   "execution_count": 33,
   "metadata": {
    "collapsed": true
   },
   "outputs": [],
   "source": [
    "# 除去Contractor_month-to-month和tenure的所有feature列\n",
    "feature_col_list = [#'tenure', \n",
    "        'MonthlyCharges', 'TotalCharges', 'gender_Label',\n",
    "       'SeniorCitizen_Label', 'Partner_Label', 'Dependents_Label',\n",
    "       'PhoneService_Label', 'MultipleLines_Label', 'InternetService_DSL',\n",
    "       'InternetService_Fiber optic', 'InternetService_No',\n",
    "       'OnlineSecurity_Label', 'OnlineBackup_Label',\n",
    "       'DeviceProtection_Label', 'TechSupport_Label', 'StreamingTV_Label',\n",
    "       'StreamingMovies_Label', #'Contract_Month-to-month',\n",
    "       'Contract_One year', 'Contract_Two year', 'PaperlessBilling_Label',\n",
    "       'PaymentMethod_Bank transfer (automatic)',\n",
    "       'PaymentMethod_Credit card (automatic)',\n",
    "       'PaymentMethod_Electronic check', 'PaymentMethod_Mailed check']"
   ]
  },
  {
   "cell_type": "code",
   "execution_count": 34,
   "metadata": {
    "collapsed": false
   },
   "outputs": [
    {
     "name": "stdout",
     "output_type": "stream",
     "text": [
      "              precision    recall  f1-score   support\n",
      "\n",
      "           0       0.82      0.92      0.87      1589\n",
      "           1       0.63      0.39      0.48       524\n",
      "\n",
      "    accuracy                           0.79      2113\n",
      "   macro avg       0.72      0.66      0.67      2113\n",
      "weighted avg       0.77      0.79      0.77      2113\n",
      "\n"
     ]
    }
   ],
   "source": [
    "train,test = train_test_split(df,test_size = .3 ,random_state = 111)\n",
    "\n",
    "features_train = train[feature_col_list]\n",
    "labels_train = train['Churn_Label']\n",
    "\n",
    "features_test = test[feature_col_list]\n",
    "labels_test = test['Churn_Label']\n",
    "\n",
    "clf_2 = tree.DecisionTreeClassifier(max_depth = 2)\n",
    "clf_2 = clf_2.fit(features_train, labels_train)\n",
    "pred_2 = clf_2.predict(features_test)\n",
    "\n",
    "print (classification_report(labels_test, pred_2))"
   ]
  },
  {
   "cell_type": "code",
   "execution_count": 35,
   "metadata": {
    "collapsed": false
   },
   "outputs": [
    {
     "data": {
      "image/png": "[encoded data removed]",
      "text/plain": [
       "<matplotlib.figure.Figure at 0x2bd3914bc18>"
      ]
     },
     "metadata": {},
     "output_type": "display_data"
    }
   ],
   "source": [
    "fig, axes = plt.subplots(figsize = (15,15))\n",
    "\n",
    "tree.plot_tree(clf_2, feature_names = feature_col_list)\n",
    "                              \n",
    "plt.show()"
   ]
  },
  {
   "cell_type": "markdown",
   "metadata": {},
   "source": [
    "同时剔除\"Contractor_month-to-month\"和\"tenure\"两个feature后，totalcharges也成为了重要分叉点。上面的决策树图再次验证了fiber_optic的服务和用户流失有比较强的关联性。\n",
    "\n",
    "TotalCharges小于308.8看上去也很容易流失，可能和用户累计使用时长有关，再次佐证了时长对用户流失的影响。\n",
    "\n",
    "比较需要注意的是，totoalcharges作为第二层的两个分叉点，选没选“fiber_optic”服务的分叉数差距很大：308.8 与 1539.625， 因此我们可以提出一个比较合理的假设，可能“fiber_optic”服务的高价格会影响客户的流失。\n",
    "\n",
    "同时还有一个很有意思的发现，选了“fiber_optic”服务且totalcharges超过1539后，用户反而没有那么容易流失掉，这可能说明“fiber_optic”服务还是有一些客户认可，且愿意花很多钱来购买这项服务。\n",
    "\n",
    "所以结合上面两点，我们可以推论出一个猜想：“fiber_optic”服务价格比较高，但可能因为有一些很棒的吸引点，所以有些顾客短期内还是会选择这项服务，但过了一段时间发现可能这项服务并不适合他们，再加上这项服务的高昂价格，于是他们干脆就彻底离开了我们公司成为流失客户；但如果客户发现这项服务非常符合他们的日常应用，尽管价格比较高，顾客还是愿意为这项服务买单。从业务层面来讲，我们可以追踪参加了这项服务的客户使用这项服务的频率和平均时间，如果某些顾客的频率和平均使用时间不高，那么我们立马让销售和客服人员联系他们主动建议取消这项服务。"
   ]
  },
  {
   "cell_type": "markdown",
   "metadata": {},
   "source": [
    "# 所以综合以上所有的决策树，有以下几点业务建议：\n",
    "\n",
    "## 1. 尽量鼓励用户签超过一年的合约\n",
    "\n",
    "## 2. 对于愿意签约超过一年的客户，考虑从性价比入手来提高留存率，比如推出94美元内的各种套餐组合。监控长合约用户的每月花费，如果有超过94美元的趋势，立马让销售人员主动联系他们并推荐可选的其他更高性价比套餐。\n",
    "\n",
    "## 3. 理智地让客服和销售人员推荐这种价格高昂的“Fiber optic”上网服务给月合同客户，并对选择了“Fiber optic”上网服务但流失掉的短期客户进行深入用户调查，可从价格、服务、竞争对手着手\n",
    "\n",
    "## 4. 对比长时间喜爱“Fiber optic”上网服务的用户和订阅“Fiber optic”上网服务后流失的用户，找出在使用这项服务上的区别有哪些，比如平均每日使用频率和平均使用时长。所以对于其他选择了“Fiber optic”上网服务的用户，追踪他们使用这项服务的平均每日使用频率和平均每日使用时长，一旦发现这两项指标偏低，立马让销售和客服人员联系他们主动建议取消这项服务。\n",
    "\n"
   ]
  },
  {
   "cell_type": "markdown",
   "metadata": {
    "collapsed": true
   },
   "source": [
    "# 业务可视化的角度分析完了，下面建立更精准的流失用户辨认模型"
   ]
  },
  {
   "cell_type": "markdown",
   "metadata": {},
   "source": [
    "这次的模型选择主要基于features的2个条件：\n",
    "\n",
    "1. 含有大量的categorial variables（虽然也被转换为1和0的numeric了，但本质上还是categorical）及3个numeric variables（tenure, monthlycharge和totalcharge）\n",
    "\n",
    "2. 部分features之间有比较强的correlation"
   ]
  },
  {
   "cell_type": "markdown",
   "metadata": {},
   "source": [
    "综上，选择了random forest模型。"
   ]
  },
  {
   "cell_type": "markdown",
   "metadata": {},
   "source": [
    "# random forest"
   ]
  },
  {
   "cell_type": "markdown",
   "metadata": {},
   "source": [
    "鉴于random forest的feature importance可能会降低correlated variables的importance，所以特征工程部分分别用了random forest和Recursive Feature Elimination (依然是用Random Forest做RFE) 来对比feature selection，从而看是否这两种特征选择会有区别，以及如果有区别，对random forest模型是否有影响。"
   ]
  },
  {
   "cell_type": "code",
   "execution_count": 36,
   "metadata": {
    "collapsed": true
   },
   "outputs": [],
   "source": [
    "from sklearn.ensemble import RandomForestClassifier\n",
    "from sklearn.feature_selection import RFE"
   ]
  },
  {
   "cell_type": "code",
   "execution_count": 37,
   "metadata": {
    "collapsed": true
   },
   "outputs": [],
   "source": [
    "# 提出所有feature列\n",
    "feature_col_list = ['tenure', 'MonthlyCharges', 'TotalCharges', 'gender_Label',\n",
    "       'SeniorCitizen_Label', 'Partner_Label', 'Dependents_Label',\n",
    "       'PhoneService_Label', 'MultipleLines_Label', 'InternetService_DSL',\n",
    "       'InternetService_Fiber optic', 'InternetService_No',\n",
    "       'OnlineSecurity_Label', 'OnlineBackup_Label',\n",
    "       'DeviceProtection_Label', 'TechSupport_Label', 'StreamingTV_Label',\n",
    "       'StreamingMovies_Label', 'Contract_Month-to-month',\n",
    "       'Contract_One year', 'Contract_Two year', 'PaperlessBilling_Label',\n",
    "       'PaymentMethod_Bank transfer (automatic)',\n",
    "       'PaymentMethod_Credit card (automatic)',\n",
    "       'PaymentMethod_Electronic check', 'PaymentMethod_Mailed check']"
   ]
  },
  {
   "cell_type": "code",
   "execution_count": 38,
   "metadata": {
    "collapsed": true
   },
   "outputs": [],
   "source": [
    "train,test = train_test_split(df,test_size = .3 ,random_state = 111)\n",
    "\n",
    "features_train = train[feature_col_list]\n",
    "labels_train = train['Churn_Label']\n",
    "\n",
    "features_test = test[feature_col_list]\n",
    "labels_test = test['Churn_Label']"
   ]
  },
  {
   "cell_type": "code",
   "execution_count": 39,
   "metadata": {
    "collapsed": true
   },
   "outputs": [],
   "source": [
    "def go_random_forest(X_train, Y_train, X_test, Y_test):\n",
    "    rf = RandomForestClassifier(n_estimators=40)\n",
    "    rf.fit(X_train, Y_train)\n",
    "    pred = rf.predict(X_test)\n",
    "    \n",
    "    print (classification_report(Y_test, pred))\n",
    "    \n",
    "    "
   ]
  },
  {
   "cell_type": "markdown",
   "metadata": {},
   "source": [
    "## 用random forest直接选取features"
   ]
  },
  {
   "cell_type": "code",
   "execution_count": 40,
   "metadata": {
    "collapsed": false
   },
   "outputs": [
    {
     "data": {
      "text/plain": [
       "array([ True,  True,  True, False, False, False, False, False, False,\n",
       "       False, False, False, False, False, False, False, False, False,\n",
       "        True, False, False, False, False, False, False, False])"
      ]
     },
     "execution_count": 40,
     "metadata": {},
     "output_type": "execute_result"
    }
   ],
   "source": [
    "sel = SelectFromModel(RandomForestClassifier(n_estimators=40))\n",
    "sel.fit(features_train,labels_train )\n",
    "sel.get_support()"
   ]
  },
  {
   "cell_type": "markdown",
   "metadata": {},
   "source": [
    "查看哪些featue被选取了："
   ]
  },
  {
   "cell_type": "code",
   "execution_count": 41,
   "metadata": {
    "collapsed": false
   },
   "outputs": [
    {
     "data": {
      "text/plain": [
       "Index(['tenure', 'MonthlyCharges', 'TotalCharges', 'Contract_Month-to-month'], dtype='object')"
      ]
     },
     "execution_count": 41,
     "metadata": {},
     "output_type": "execute_result"
    }
   ],
   "source": [
    "features_rf = features_train.columns[sel.get_support()]\n",
    "features_rf"
   ]
  },
  {
   "cell_type": "markdown",
   "metadata": {},
   "source": [
    "用random forest直接选取的features,在random forest模型里的效果："
   ]
  },
  {
   "cell_type": "code",
   "execution_count": 42,
   "metadata": {
    "collapsed": false
   },
   "outputs": [
    {
     "name": "stdout",
     "output_type": "stream",
     "text": [
      "              precision    recall  f1-score   support\n",
      "\n",
      "           0       0.83      0.86      0.85      1589\n",
      "           1       0.53      0.48      0.50       524\n",
      "\n",
      "    accuracy                           0.77      2113\n",
      "   macro avg       0.68      0.67      0.68      2113\n",
      "weighted avg       0.76      0.77      0.76      2113\n",
      "\n"
     ]
    }
   ],
   "source": [
    "go_random_forest(sel.transform(features_train), labels_train, sel.transform(features_test), labels_test)"
   ]
  },
  {
   "cell_type": "markdown",
   "metadata": {},
   "source": [
    "## 用 RFE + random forest 选取features"
   ]
  },
  {
   "cell_type": "code",
   "execution_count": 43,
   "metadata": {
    "collapsed": false
   },
   "outputs": [
    {
     "data": {
      "text/plain": [
       "array([ True,  True,  True,  True, False,  True, False, False, False,\n",
       "       False,  True, False,  True, False, False, False, False, False,\n",
       "        True, False, False,  True, False, False,  True, False])"
      ]
     },
     "execution_count": 43,
     "metadata": {},
     "output_type": "execute_result"
    }
   ],
   "source": [
    "sel = RFE(RandomForestClassifier(n_estimators=40),  n_features_to_select=10)\n",
    "sel.fit(features_train,labels_train )\n",
    "sel.get_support()\n",
    "\n"
   ]
  },
  {
   "cell_type": "markdown",
   "metadata": {},
   "source": [
    "查看哪些featue被选取了："
   ]
  },
  {
   "cell_type": "code",
   "execution_count": 44,
   "metadata": {
    "collapsed": false
   },
   "outputs": [
    {
     "data": {
      "text/plain": [
       "Index(['tenure', 'MonthlyCharges', 'TotalCharges', 'gender_Label',\n",
       "       'Partner_Label', 'InternetService_Fiber optic', 'OnlineSecurity_Label',\n",
       "       'Contract_Month-to-month', 'PaperlessBilling_Label',\n",
       "       'PaymentMethod_Electronic check'],\n",
       "      dtype='object')"
      ]
     },
     "execution_count": 44,
     "metadata": {},
     "output_type": "execute_result"
    }
   ],
   "source": [
    "features_rfe = features_train.columns[sel.get_support()]\n",
    "features_rfe"
   ]
  },
  {
   "cell_type": "markdown",
   "metadata": {},
   "source": [
    "用 RFE + random forest 选取的features,在random forest模型里的效果："
   ]
  },
  {
   "cell_type": "code",
   "execution_count": 45,
   "metadata": {
    "collapsed": false
   },
   "outputs": [
    {
     "name": "stdout",
     "output_type": "stream",
     "text": [
      "              precision    recall  f1-score   support\n",
      "\n",
      "           0       0.84      0.88      0.86      1589\n",
      "           1       0.57      0.51      0.54       524\n",
      "\n",
      "    accuracy                           0.78      2113\n",
      "   macro avg       0.71      0.69      0.70      2113\n",
      "weighted avg       0.78      0.78      0.78      2113\n",
      "\n"
     ]
    }
   ],
   "source": [
    "go_random_forest(sel.transform(features_train), labels_train, sel.transform(features_test), labels_test) # 40, 10"
   ]
  },
  {
   "cell_type": "markdown",
   "metadata": {},
   "source": [
    "通过对比发现，用 RFE + random forest 选取的features 优于 用random forest直接选取的features."
   ]
  },
  {
   "cell_type": "markdown",
   "metadata": {},
   "source": [
    "## 接下来，对下面组合进行网格调参，以达到最好的训练效果：\n",
    "## 特征工程： RFE + random forest， 模型：random forest \n"
   ]
  },
  {
   "cell_type": "code",
   "execution_count": 46,
   "metadata": {
    "collapsed": false,
    "scrolled": false
   },
   "outputs": [
    {
     "name": "stderr",
     "output_type": "stream",
     "text": [
      "C:\\Users\\youfe\\Anaconda3\\lib\\site-packages\\sklearn\\model_selection\\_split.py:1978: FutureWarning:\n",
      "\n",
      "The default value of cv will change from 3 to 5 in version 0.22. Specify it explicitly to silence this warning.\n",
      "\n"
     ]
    },
    {
     "name": "stdout",
     "output_type": "stream",
     "text": [
      "{'n_estimators': 26, 'criterion': 'entropy', 'max_depth': 8}\n"
     ]
    }
   ],
   "source": [
    "from sklearn.model_selection import GridSearchCV\n",
    "\n",
    "sel = RFE(RandomForestClassifier(n_estimators=40),  n_features_to_select=10)\n",
    "sel.fit(features_train,labels_train )\n",
    "\n",
    "features_train = sel.transform(features_train)\n",
    "features_test = sel.transform(features_test)\n",
    "\n",
    "classifier = RandomForestClassifier()\n",
    "\n",
    "param_grid = { \n",
    "    'n_estimators':  range(10,50),\n",
    "    \n",
    "    'criterion': ['gini','entropy'],\n",
    "    'max_depth':range(2,15)\n",
    "    \n",
    "    \n",
    "}\n",
    "\n",
    "CV_rfc = GridSearchCV(estimator=classifier, param_grid=param_grid, scoring='f1')\n",
    "CV_rfc.fit(features_train, labels_train)\n",
    "print (CV_rfc.best_params_)"
   ]
  },
  {
   "cell_type": "code",
   "execution_count": 47,
   "metadata": {
    "collapsed": false
   },
   "outputs": [
    {
     "name": "stdout",
     "output_type": "stream",
     "text": [
      "              precision    recall  f1-score   support\n",
      "\n",
      "           0       0.86      0.89      0.87      1589\n",
      "           1       0.62      0.54      0.58       524\n",
      "\n",
      "    accuracy                           0.81      2113\n",
      "   macro avg       0.74      0.72      0.73      2113\n",
      "weighted avg       0.80      0.81      0.80      2113\n",
      "\n"
     ]
    }
   ],
   "source": [
    "pred =CV_rfc.predict(features_test)\n",
    "print (classification_report(labels_test, pred))"
   ]
  },
  {
   "cell_type": "markdown",
   "metadata": {},
   "source": [
    "# Limitations:\n",
    "\n",
    "1. 建立模型前的EDA只做了correlation matrix\n",
    "\n",
    "2. 在random forest模型结束后，其实还有快速尝试其他模型，比如SVM（没有调参），但因为效果没有比random forest更好，所以没有写出来。"
   ]
  },
  {
   "cell_type": "code",
   "execution_count": null,
   "metadata": {
    "collapsed": true
   },
   "outputs": [],
   "source": []
  },
  {
   "cell_type": "code",
   "execution_count": null,
   "metadata": {
    "collapsed": true
   },
   "outputs": [],
   "source": []
  }
 ],
 "metadata": {
  "anaconda-cloud": {},
  "kernelspec": {
   "display_name": "Python [default]",
   "language": "python",
   "name": "python3"
  },
  "language_info": {
   "codemirror_mode": {
    "name": "ipython",
    "version": 3
   },
   "file_extension": ".py",
   "mimetype": "text/x-python",
   "name": "python",
   "nbconvert_exporter": "python",
   "pygments_lexer": "ipython3",
   "version": "3.5.2"
  }
 },
 "nbformat": 4,
 "nbformat_minor": 2
}
